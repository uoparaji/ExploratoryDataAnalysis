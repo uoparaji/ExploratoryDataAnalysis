{
 "cells": [
  {
   "cell_type": "markdown",
   "metadata": {
    "id": "_t1NkLXZrU8K"
   },
   "source": [
    "# Introduction to Python"
   ]
  },
  {
   "cell_type": "markdown",
   "metadata": {
    "id": "LJgMXHo3rU8Q"
   },
   "source": [
    "Python is a free, open source, general purpose programming language which has become extremely popular in the field of Data Science in recent years.  This is largely due to Google and their very powerful machine learning package, called TensorFlow (More on this in later lessons).\n",
    "\n",
    "Python is an object oriented programming language, as opposed to imperative or functional programming languages, which means its primary mode of abstracting and solving problems is the object class.\n",
    "\n",
    "## Python 2 vs Python 3\n",
    "\n",
    "At the time of this writing, there are two major Python distributions widely used in many different professional environments, Python 2 and Python 3.  For the most part, syntax of the two versions is interchangeable.  There are some exceptions to this, and these shall be pointed out as we encounter them.  For any reader who is curious, this notebook was written in Python 2.\n",
    "\n",
    "At present most (roughly two-thirds) programmers in a professional Python development environment report that they use Python 2 at work.  However, the number of programmers using Python 3 at work has been on the rise in the last two or three years.  The Python Software Foundation has announced that in 2020, official support for Python 2 will stop.  Python 2 code will still work, but there will no longer be official security updates, or other forms of support.  It is my opinion that this will lead to a mass migration from Python 2 to Python 3 in professional development environments.\n",
    "\n",
    "So, if you're new to Python and wondering which version to learn, I'd recommend Python 3.  The current version of Python 2 or 3, along with all necessary packages for data science, can be downloaded at https://www.anaconda.com/download/."
   ]
  },
  {
   "cell_type": "markdown",
   "metadata": {
    "id": "YF2C2RmmrU8T"
   },
   "source": [
    "## Integers and Floating Point Numbers\n",
    "\n",
    "### Integers\n",
    "\n",
    "Some of the most common data we'll encounter is numbers, and the most common types of numbers are integers and floating point numbers.  Integers are whole numbers (just like in mathematics), and they are the most basic type of numeric data we can encounter.  They commonly appear as counts or indexes.  Python supports all of the usual arithmetic operations on integers, and the syntax is probably about what you'd expect."
   ]
  },
  {
   "cell_type": "code",
   "execution_count": 1,
   "metadata": {
    "ExecuteTime": {
     "end_time": "2018-08-14T16:04:59.051000Z",
     "start_time": "2018-08-14T16:04:59.023000Z"
    },
    "colab": {
     "base_uri": "https://localhost:8080/",
     "height": 131
    },
    "executionInfo": {
     "elapsed": 5,
     "status": "error",
     "timestamp": 1639078380169,
     "user": {
      "displayName": "Jaime Ruiz",
      "photoUrl": "https://lh3.googleusercontent.com/a/default-user=s64",
      "userId": "07273553668451694314"
     },
     "user_tz": 300
    },
    "id": "o-8rXY_frU8U",
    "outputId": "34ef4b5e-be42-4566-a33b-85c3f5d5b01b"
   },
   "outputs": [
    {
     "ename": "SyntaxError",
     "evalue": "ignored",
     "output_type": "error",
     "traceback": [
      "\u001b[0;36m  File \u001b[0;32m\"<ipython-input-1-0ef1fe2acd0b>\"\u001b[0;36m, line \u001b[0;32m11\u001b[0m\n\u001b[0;31m    print type(2)   # Check that 2 is an integer\u001b[0m\n\u001b[0m             ^\u001b[0m\n\u001b[0;31mSyntaxError\u001b[0m\u001b[0;31m:\u001b[0m invalid syntax\n"
     ]
    }
   ],
   "source": [
    "# Integers\n",
    "# By the way, this is a \"comment.\"  Anything following a \"#\" in a line will be ignored by the Python interpreter.\n",
    "\n",
    "\"\"\"\n",
    "This is a longer, muli-line comment. Comments allow you to write notes about your code.  You are encouraged to\n",
    "comment liberally in your code. This will help any human readers that may need to read or maintain your code\n",
    "to understand what different blocks of code are for and how they work. This really helps, especially if you've\n",
    "been working on other things and then you come back to a project and haven't seen the code in a while.\n",
    "\"\"\"\n",
    "\n",
    "print type(2)   # Check that 2 is an integer\n",
    "\n",
    "print 2 + 3     # Addition\n",
    "print 2 - 3     # Subtraction\n",
    "print -2        # Negation\n",
    "print 2 * 3     # Multiplication\n",
    "print 2 / 3     # Division\n",
    "print 2 ** 3    # Exponentiation\n",
    "print 2 % 3     # Modular Residue"
   ]
  },
  {
   "cell_type": "markdown",
   "metadata": {
    "id": "u_F06QXLrU8X"
   },
   "source": [
    "#### Python 2 vs Python 3 Alert!\n",
    "\n",
    "Well, we're only in our first block of code, and we've already encountered our first examples of differences between Python 2 and Python 3. First all, there's the 'print' operation. "
   ]
  },
  {
   "cell_type": "code",
   "execution_count": null,
   "metadata": {
    "ExecuteTime": {
     "end_time": "2018-05-25T13:41:31.172000Z",
     "start_time": "2018-05-25T13:41:31.161000Z"
    },
    "id": "jmqQNPM8rU8Y",
    "outputId": "c7dfddf9-2fcd-460f-d2e7-a9476b11c41a"
   },
   "outputs": [
    {
     "name": "stdout",
     "output_type": "stream",
     "text": [
      "5\n",
      "-1\n"
     ]
    }
   ],
   "source": [
    "# print allows us to display something to the screen.\n",
    "# In Python 2, print is a \"statement,\" and the syntax is as it appears above.\n",
    "# In Python 3, print is a \"function,\" and the syntax is as follows.\n",
    "\n",
    "print(2 + 3)\n",
    "print(2 - 3)\n",
    "\n",
    "# We'll talk more about statements and functions later."
   ]
  },
  {
   "cell_type": "markdown",
   "metadata": {
    "id": "3odCChNLrU8Z"
   },
   "source": [
    "Second, a sharp eye will have noticed that the output from the arithmetic expression 2 / 3 was 0, and not the expected $0.\\bar{6}$. This is because in Python 2, the division of two integers will result in an integer. Any numbers after the decimal in the result will be truncated, which is why we got the output we got. In Python 3, the division operation is true division whether the dividands are integers or not.  *Be mindful of this difference in the division operation; it will trip you up in your calculation if you're not careful.*\n",
    "\n",
    "If you are using Python 2, and would like to get the true answer from the division of two integers, the work around would be to \"cast\" one of the numbers as a float.  This will make the result a float, which will result in true division."
   ]
  },
  {
   "cell_type": "code",
   "execution_count": null,
   "metadata": {
    "ExecuteTime": {
     "end_time": "2019-01-03T13:20:40.135000Z",
     "start_time": "2019-01-03T13:20:40.124000Z"
    },
    "id": "YfD9C3wnrU8a",
    "outputId": "8d04682a-25c0-450c-9a63-b2ebab0ca51c"
   },
   "outputs": [
    {
     "name": "stdout",
     "output_type": "stream",
     "text": [
      "0\n",
      "0.666666666667\n",
      "0.666666666667\n",
      "0.666666666667\n",
      "0.666666666667\n",
      "0.0\n"
     ]
    }
   ],
   "source": [
    "# Casting integers as floats\n",
    "\n",
    "print(2 / 3)\n",
    "print(float(2) / 3)\n",
    "print(2 / float(3))\n",
    "print(2.0 / 3)\n",
    "print(2. / 3)\n",
    "print(float(2 / 3))"
   ]
  },
  {
   "cell_type": "markdown",
   "metadata": {
    "id": "je7r177arU8b"
   },
   "source": [
    "Notice that the last expression *did* return a float, but it's still 0. This is because of the order in which expressions are evaluated by the Python interpreter. First it evaluates the 2 / 3 expression. At this point, both numbers are still integers, so this expression evaluates to 0.  Then, the ```float()``` function casts the integer 0 to the float 0.0.\n",
    "\n",
    "#### End Python 2 vs Python 3 Alert"
   ]
  },
  {
   "cell_type": "markdown",
   "metadata": {
    "id": "o31dQm-srU8d"
   },
   "source": [
    "Since we've just introduced the concept of casting, let's take a quick look at how to cast something as an integer.  By casting, I mean changing the type of an object.  Each data type and structure will have a corresponding function which casts an object as that type or structure.  The function for casting an object as an integer is ```int()```."
   ]
  },
  {
   "cell_type": "code",
   "execution_count": null,
   "metadata": {
    "ExecuteTime": {
     "end_time": "2018-05-25T14:55:22.218000Z",
     "start_time": "2018-05-25T14:55:22.208000Z"
    },
    "id": "N7Oo_y14rU8e",
    "outputId": "e4307b9a-0a85-4960-e36c-f0ff7560b820"
   },
   "outputs": [
    {
     "name": "stdout",
     "output_type": "stream",
     "text": [
      "2\n",
      "2\n",
      "2\n",
      "1\n",
      "0\n"
     ]
    }
   ],
   "source": [
    "# Integer casting\n",
    "\n",
    "print(int(2.0))                   # Cast a float as an int\n",
    "print(int(\"00000010\", base = 2))  # Cast a binary string as an int\n",
    "print(int(\"2\"))                   # Cast a character string as an int\n",
    "print(int(True))                  # Cast a bool as an int\n",
    "print(int(False))"
   ]
  },
  {
   "cell_type": "markdown",
   "metadata": {
    "id": "9D0703NYrU8h"
   },
   "source": [
    "Python was able to convert each of these other data types (which we will talk about) to an integer.  However, in other cases where there is no obvious way to convert the object to an integer, this won't work."
   ]
  },
  {
   "cell_type": "code",
   "execution_count": null,
   "metadata": {
    "ExecuteTime": {
     "end_time": "2018-05-25T14:55:37.384000Z",
     "start_time": "2018-05-25T14:55:37.368000Z"
    },
    "id": "bKuRdSGJrU8i",
    "outputId": "d11d5dc0-1bd2-44db-a7b0-02ac6bb92579"
   },
   "outputs": [
    {
     "ename": "ValueError",
     "evalue": "invalid literal for int() with base 10: 'two'",
     "output_type": "error",
     "traceback": [
      "\u001b[1;31m---------------------------------------------------------------------------\u001b[0m",
      "\u001b[1;31mValueError\u001b[0m                                Traceback (most recent call last)",
      "\u001b[1;32m<ipython-input-43-c96eebaa7dce>\u001b[0m in \u001b[0;36m<module>\u001b[1;34m()\u001b[0m\n\u001b[0;32m      1\u001b[0m \u001b[1;31m# Examples of integer casts that won't work\u001b[0m\u001b[1;33m\u001b[0m\u001b[1;33m\u001b[0m\u001b[0m\n\u001b[0;32m      2\u001b[0m \u001b[1;33m\u001b[0m\u001b[0m\n\u001b[1;32m----> 3\u001b[1;33m \u001b[0mint\u001b[0m\u001b[1;33m(\u001b[0m\u001b[1;34m\"two\"\u001b[0m\u001b[1;33m)\u001b[0m\u001b[1;33m\u001b[0m\u001b[0m\n\u001b[0m",
      "\u001b[1;31mValueError\u001b[0m: invalid literal for int() with base 10: 'two'"
     ]
    }
   ],
   "source": [
    "# Examples of integer casts that won't work\n",
    "\n",
    "int(\"two\")"
   ]
  },
  {
   "cell_type": "code",
   "execution_count": null,
   "metadata": {
    "ExecuteTime": {
     "end_time": "2018-05-25T14:55:38.457000Z",
     "start_time": "2018-05-25T14:55:38.439000Z"
    },
    "id": "GH6PzppDrU8j",
    "outputId": "8c9fffd3-6247-4524-9285-901197a43417"
   },
   "outputs": [
    {
     "ename": "ValueError",
     "evalue": "invalid literal for int() with base 10: 'banana'",
     "output_type": "error",
     "traceback": [
      "\u001b[1;31m---------------------------------------------------------------------------\u001b[0m",
      "\u001b[1;31mValueError\u001b[0m                                Traceback (most recent call last)",
      "\u001b[1;32m<ipython-input-44-bccac5a20655>\u001b[0m in \u001b[0;36m<module>\u001b[1;34m()\u001b[0m\n\u001b[1;32m----> 1\u001b[1;33m \u001b[0mint\u001b[0m\u001b[1;33m(\u001b[0m\u001b[1;34m\"banana\"\u001b[0m\u001b[1;33m)\u001b[0m\u001b[1;33m\u001b[0m\u001b[0m\n\u001b[0m",
      "\u001b[1;31mValueError\u001b[0m: invalid literal for int() with base 10: 'banana'"
     ]
    }
   ],
   "source": [
    "int(\"banana\")"
   ]
  },
  {
   "cell_type": "markdown",
   "metadata": {
    "id": "hqj7mwyWrU8k"
   },
   "source": [
    "These examples didn't work, because there's no obvious way for the Python interpreter to convert these inputs into an integer.\n",
    "\n",
    "### Floats\n",
    "\n",
    "Floating Point Numbers, or \"floats\" for short, are the programming equivalent of the mathematical concept of Real Numbers.  Basically, this means any number that is represented with decimal points.  These also have all of the expected arithmetic operations."
   ]
  },
  {
   "cell_type": "code",
   "execution_count": null,
   "metadata": {
    "ExecuteTime": {
     "end_time": "2018-05-25T15:54:21.564000Z",
     "start_time": "2018-05-25T15:54:21.551000Z"
    },
    "id": "0GptAF8ZrU8k",
    "outputId": "311a6666-4251-4422-f418-58d58b599824"
   },
   "outputs": [
    {
     "name": "stdout",
     "output_type": "stream",
     "text": [
      "<type 'float'>\n",
      "5.0\n",
      "-1.0\n",
      "-2.0\n",
      "6.0\n",
      "8.0\n",
      "0.666666666667\n",
      "0.0\n",
      "2.0\n"
     ]
    }
   ],
   "source": [
    "# Floating Point Numbers (floats)\n",
    "\n",
    "print(type(2.0))            # Check that 2.0 is a float\n",
    "\n",
    "print(2.0 + 3.0)            # Addition\n",
    "print(2.0 - 3.0)            # Subtraction\n",
    "print(-2.0)                 # Negation\n",
    "print(2.0 * 3.0)            # Multiplication\n",
    "print(2.0 ** 3.0)           # Exponentiation\n",
    "print(2.0 / 3.0)            # Division\n",
    "print(2.0 // 3.0)           # Integer Division\n",
    "print(2.0 % 3.0)            # Modular Residue"
   ]
  },
  {
   "cell_type": "markdown",
   "metadata": {
    "id": "EtePyEwmrU8l"
   },
   "source": [
    "All of these examples are cases where we are performing the operation on two floats.  In the case where one number is a float and one is an integer, we've seen that Python defaults to the float operation behavior."
   ]
  },
  {
   "cell_type": "code",
   "execution_count": null,
   "metadata": {
    "ExecuteTime": {
     "end_time": "2018-08-07T11:29:33.060000Z",
     "start_time": "2018-08-07T11:29:33.048000Z"
    },
    "id": "DFkFXAZ-rU8m",
    "outputId": "dc5c61b8-207f-4397-a21b-94062d2eac9f"
   },
   "outputs": [
    {
     "name": "stdout",
     "output_type": "stream",
     "text": [
      "5.0\n",
      "-1.0\n",
      "6.0\n",
      "8.0\n",
      "0.666666666667\n",
      "0.0\n",
      "2.0\n",
      "19.0\n"
     ]
    }
   ],
   "source": [
    "# Float and integer operations\n",
    "\n",
    "print(2.0 + 3)\n",
    "print(2.0 - 3)\n",
    "print(2 * 3.0)\n",
    "print(2 ** 3.0)\n",
    "print(2 / 3.0)\n",
    "print(2 // 3.0)\n",
    "print(2.0 % 3)"
   ]
  },
  {
   "cell_type": "markdown",
   "metadata": {
    "id": "5jyYZ4F2rU8m"
   },
   "source": [
    "As with integers, there is a function for casting objects as floating point numbers.  The function is ```float()```."
   ]
  },
  {
   "cell_type": "code",
   "execution_count": null,
   "metadata": {
    "ExecuteTime": {
     "end_time": "2019-01-03T15:51:40.553000Z",
     "start_time": "2019-01-03T15:51:40.540000Z"
    },
    "id": "AfDhqnECrU8n",
    "outputId": "7dcbf634-49ce-4837-c20c-4e9ae9957e4b"
   },
   "outputs": [
    {
     "name": "stdout",
     "output_type": "stream",
     "text": [
      "2.0\n",
      "10.0\n",
      "2.0\n",
      "1.0\n",
      "0.0\n"
     ]
    }
   ],
   "source": [
    "# Casting floats\n",
    "\n",
    "print(float(2))             # Cast an integer as a float\n",
    "print(float(\"00000010\"))    # Cast a binary string as a float\n",
    "print(float(\"2\"))           # Cast a character string as a float\n",
    "print(float(True))          # Cast a bool as a float\n",
    "print(float(False))"
   ]
  },
  {
   "cell_type": "markdown",
   "metadata": {
    "id": "taTXaRHNrU8o"
   },
   "source": [
    "As with integers, the object can only be cast as a float if there is an obvious way for it to be converted to a number.  Notice that we *can't* cast a binary string to a float as its actual value (The result above was 10.0, but should've been 2.0).  This is because the ```float()``` function can only take one argument, so we're unable to define the base as we were with the integer example."
   ]
  },
  {
   "cell_type": "code",
   "execution_count": null,
   "metadata": {
    "ExecuteTime": {
     "end_time": "2018-05-27T08:41:44.106000Z",
     "start_time": "2018-05-27T08:41:44.090000Z"
    },
    "id": "Oc4yHFLprU8p",
    "outputId": "f5916b31-e040-420d-bf25-4f273e921ec7"
   },
   "outputs": [
    {
     "ename": "TypeError",
     "evalue": "float() takes at most 1 argument (2 given)",
     "output_type": "error",
     "traceback": [
      "\u001b[1;31m---------------------------------------------------------------------------\u001b[0m",
      "\u001b[1;31mTypeError\u001b[0m                                 Traceback (most recent call last)",
      "\u001b[1;32m<ipython-input-5-9a9d91fa2a70>\u001b[0m in \u001b[0;36m<module>\u001b[1;34m()\u001b[0m\n\u001b[1;32m----> 1\u001b[1;33m \u001b[1;32mprint\u001b[0m\u001b[1;33m(\u001b[0m\u001b[0mfloat\u001b[0m\u001b[1;33m(\u001b[0m\u001b[1;34m\"00000010\"\u001b[0m\u001b[1;33m,\u001b[0m \u001b[0mbase\u001b[0m \u001b[1;33m=\u001b[0m \u001b[1;36m2\u001b[0m\u001b[1;33m)\u001b[0m\u001b[1;33m)\u001b[0m\u001b[1;33m\u001b[0m\u001b[0m\n\u001b[0m",
      "\u001b[1;31mTypeError\u001b[0m: float() takes at most 1 argument (2 given)"
     ]
    }
   ],
   "source": [
    "print(float(\"00000010\", base = 2))"
   ]
  },
  {
   "cell_type": "markdown",
   "metadata": {
    "id": "9cr1x-XGrU8p"
   },
   "source": [
    "## Boolean Statements\n",
    "\n",
    "Another data type which will be extremely handy is the Boolean statement.  Just as in mathematics, these are statements which evaluate to either \"True\" or \"False\".  In Python, these statements have the type \"bool\".  Bools have all of the logical operations we would expect, and their syntax is extremely intuitive."
   ]
  },
  {
   "cell_type": "code",
   "execution_count": null,
   "metadata": {
    "ExecuteTime": {
     "end_time": "2018-08-23T12:35:41.705000Z",
     "start_time": "2018-08-23T12:35:41.683000Z"
    },
    "id": "CoO_oHg2rU8q",
    "outputId": "9037a36a-442a-4602-828a-11bfc53c3d58"
   },
   "outputs": [
    {
     "name": "stdout",
     "output_type": "stream",
     "text": [
      "<type 'bool'>\n",
      "True\n",
      "False\n",
      "False\n",
      "True\n",
      "True\n",
      "False\n"
     ]
    }
   ],
   "source": [
    "# Boolean operations\n",
    "\n",
    "print(type(True))        # Check that True is a boolean\n",
    "\n",
    "print(True)\n",
    "print(False)\n",
    "print(True and False)    # Logical And\n",
    "print(True or False)     # Logical Or\n",
    "print(True or True)      # Or is inclusive\n",
    "print(not True)          # Logical Negation"
   ]
  },
  {
   "cell_type": "markdown",
   "metadata": {
    "id": "IsX0BqUBrU8q"
   },
   "source": [
    "How do we actually use these statements in programming?  It's not really the case that we're going to be writing out ```True``` or ```False``` in our programs all the time.  This brings us to comparison operators.  Since we've only seen numeric data up to this point, let's look at how these operators are used with numbers."
   ]
  },
  {
   "cell_type": "code",
   "execution_count": null,
   "metadata": {
    "ExecuteTime": {
     "end_time": "2018-05-27T09:19:37.853000Z",
     "start_time": "2018-05-27T09:19:37.841000Z"
    },
    "id": "X90VIv7crU8q",
    "outputId": "7636bc29-78a6-4ee8-b1dc-fb21cc7e6f05"
   },
   "outputs": [
    {
     "name": "stdout",
     "output_type": "stream",
     "text": [
      "False\n",
      "True\n",
      "False\n",
      "True\n",
      "False\n",
      "True\n",
      "True\n"
     ]
    }
   ],
   "source": [
    "# Comparison Operations with Numbers\n",
    "\n",
    "print(2 > 3)          # Greater than\n",
    "print(2 < 3.0)        # Less than\n",
    "print(2.0 >= 3)       # Greater than or equal to\n",
    "print(2 <= 3)         # Less than or equal to\n",
    "print(2 == 3)         # Equivalence\n",
    "print(2 == 2.0)\n",
    "print(2 != 3)         # Non-equivalence"
   ]
  },
  {
   "cell_type": "markdown",
   "metadata": {
    "id": "-PaM-CMgrU8r"
   },
   "source": [
    "These operations can be combined in any number of ways to create arbitrarily complex logical taughtisms.  In the special case of number, we can also write comparisons involving ```and``` a little more compactly."
   ]
  },
  {
   "cell_type": "code",
   "execution_count": null,
   "metadata": {
    "ExecuteTime": {
     "end_time": "2018-05-27T09:33:38.782000Z",
     "start_time": "2018-05-27T09:33:38.778000Z"
    },
    "id": "R0Ho97q-rU8r",
    "outputId": "6fc45ce9-92e4-4e1b-fa69-d02c824cba8f"
   },
   "outputs": [
    {
     "name": "stdout",
     "output_type": "stream",
     "text": [
      "True\n",
      "True\n"
     ]
    }
   ],
   "source": [
    "print(2 > 1 and 2 < 3)\n",
    "print(1 < 2 < 3)"
   ]
  },
  {
   "cell_type": "markdown",
   "metadata": {
    "id": "wBeI6Rf1rU8r"
   },
   "source": [
    "One quick example of a very common use of comparison operators with numbers is checking whether a number is even or odd.  To do this, we combined the modular residue operation with the equivalence comparison."
   ]
  },
  {
   "cell_type": "code",
   "execution_count": null,
   "metadata": {
    "ExecuteTime": {
     "end_time": "2018-05-27T09:39:10.032000Z",
     "start_time": "2018-05-27T09:39:10.028000Z"
    },
    "id": "_BiKuFiDrU8s",
    "outputId": "5ae8fd07-7db3-4f24-ac8e-5b77d33000ed"
   },
   "outputs": [
    {
     "name": "stdout",
     "output_type": "stream",
     "text": [
      "True\n",
      "False\n",
      "False\n",
      "True\n"
     ]
    }
   ],
   "source": [
    "print(16 % 2 == 0)        # Check whether 16 is even\n",
    "print(17 % 2 == 0)        # Check whether 17 is even\n",
    "print(16 % 2 == 1)        # Check whether 16 is odd\n",
    "print(17 % 2 == 1)        # Check whether 17 is odd"
   ]
  },
  {
   "cell_type": "markdown",
   "metadata": {
    "id": "cVdVdLlQrU8s"
   },
   "source": [
    "We've seen that when we cast bools as integers or floats, this results in a number.  That is because in Python, ```True``` and ```False``` actually have equivalent number representations."
   ]
  },
  {
   "cell_type": "code",
   "execution_count": null,
   "metadata": {
    "ExecuteTime": {
     "end_time": "2018-05-27T09:47:25.184000Z",
     "start_time": "2018-05-27T09:47:25.176000Z"
    },
    "id": "ciWZ4kdZrU8s",
    "outputId": "0d4ee33a-89d8-49ce-d56d-8921a5801d52"
   },
   "outputs": [
    {
     "name": "stdout",
     "output_type": "stream",
     "text": [
      "1\n",
      "True\n",
      "0\n",
      "True\n"
     ]
    }
   ],
   "source": [
    "# Numeric representations of bools\n",
    "\n",
    "print(int(True))\n",
    "print(True == 1)\n",
    "print(int(False))\n",
    "print(False == 0)"
   ]
  },
  {
   "cell_type": "markdown",
   "metadata": {
    "id": "MDNlmU9orU8t"
   },
   "source": [
    "This fact will come in very handy, as it allows us to count up the number of stamtements which evaluated to ```True```.  Here's a quick example to illustrate this.  We'll get into more practical uses of this fact later."
   ]
  },
  {
   "cell_type": "code",
   "execution_count": null,
   "metadata": {
    "ExecuteTime": {
     "end_time": "2018-05-27T09:50:29.995000Z",
     "start_time": "2018-05-27T09:50:29.987000Z"
    },
    "id": "5Aq1kotbrU8t",
    "outputId": "548ec540-5508-4a8f-c4de-1c1d44980af6"
   },
   "outputs": [
    {
     "name": "stdout",
     "output_type": "stream",
     "text": [
      "3\n"
     ]
    }
   ],
   "source": [
    "print( (2 < 3) + (5 <= 7) + (2 > 20) + (10 % 2 == 0) + (11 % 2 == 0) )"
   ]
  },
  {
   "cell_type": "markdown",
   "metadata": {
    "id": "yHjOJ1harU8t"
   },
   "source": [
    "Before moving on, take a few minutes to experiment with Booleans and comparison operators on numbers.  When you feel comfortable, move on to the next section."
   ]
  },
  {
   "cell_type": "code",
   "execution_count": null,
   "metadata": {
    "collapsed": true,
    "id": "n3gwIw57rU8u"
   },
   "outputs": [],
   "source": [
    "# Use this cell to experiment a little with bools and comparisons\n",
    "# When you want to execute your code, press Shift + Enter.  The output\n",
    "# of your code will appear below the cell.\n",
    "\n",
    "\n",
    "\n",
    "\n",
    "\n",
    "\n",
    "\n"
   ]
  },
  {
   "cell_type": "markdown",
   "metadata": {
    "id": "c6w_Ey8irU8v"
   },
   "source": [
    "## Character Strings\n",
    "\n",
    "Character Strings (\"strings\" for short) are the data type used in Python to store text.  We use quotes (\" \") to denote strings to the Python interpreter.  If you forget to enclose a charachter string in quotes, the Python interpreter will assume you are trying to reference some object in the environment, such as a variable or function.\n",
    "\n",
    "We'll talk about functions later, but let's go ahead and talk about variable assignment right now.  In our programs we can assign a name to a value or quantity, and then later reference that value or quantity by that name.  That name is called a variable, and we assign variables using the assignment operator (=)."
   ]
  },
  {
   "cell_type": "code",
   "execution_count": null,
   "metadata": {
    "ExecuteTime": {
     "end_time": "2018-08-07T11:47:27.668000Z",
     "start_time": "2018-08-07T11:47:27.656000Z"
    },
    "id": "_1ouwonFrU8v",
    "outputId": "a9b85db9-5e08-4bb0-c8cd-2be40d442bdd"
   },
   "outputs": [
    {
     "name": "stdout",
     "output_type": "stream",
     "text": [
      "5\n",
      "5\n",
      "5.0\n",
      "5.0\n",
      "1\n",
      "1\n"
     ]
    }
   ],
   "source": [
    "# Variable assignment\n",
    "\n",
    "x = 2\n",
    "y = 2.0\n",
    "z = True\n",
    "\n",
    "print(2 + 3)\n",
    "print(x + 3)\n",
    "print(2.0 + 3)\n",
    "print(y + 3)\n",
    "print(int(True))\n",
    "print(int(z))"
   ]
  },
  {
   "cell_type": "markdown",
   "metadata": {
    "id": "g97pG9BVrU8w"
   },
   "source": [
    "Here we see that once a value is assigned a variable name, we can call the variable name and it's evaluated just as if it was the object stored inside it.  This comes in handy when we want to store the result of a certain calculation for later use, or when we want to use any particular value repeatedly throughout our program.  Once we've stored a value in a variable, we can also change or modify that value later."
   ]
  },
  {
   "cell_type": "code",
   "execution_count": null,
   "metadata": {
    "ExecuteTime": {
     "end_time": "2018-08-23T12:46:39.617000Z",
     "start_time": "2018-08-23T12:46:39.601000Z"
    },
    "id": "yd4t4ma7rU8x",
    "outputId": "49196222-d670-4c3a-aea0-c3a9ff059847"
   },
   "outputs": [
    {
     "name": "stdout",
     "output_type": "stream",
     "text": [
      "2\n",
      "2\n",
      "3\n",
      "2\n",
      "three\n",
      "2\n",
      "three\n",
      "3\n"
     ]
    }
   ],
   "source": [
    "# Changing variable values\n",
    "\n",
    "x = 2\n",
    "y = x\n",
    "\n",
    "print(x)\n",
    "print(y)\n",
    "\n",
    "x = x + 1\n",
    "\n",
    "print(x)\n",
    "print(y)\n",
    "\n",
    "x = \"three\"\n",
    "\n",
    "print(x)\n",
    "print(y)\n",
    "\n",
    "y = 3\n",
    "\n",
    "print(x)\n",
    "print(y)"
   ]
  },
  {
   "cell_type": "markdown",
   "metadata": {
    "id": "3sa9rVHfrU8x"
   },
   "source": [
    "We see that we were able to assign a value to the variable ```x``` and then change that value, first by modifying the value which was already stored in ```x```, and second by just assigning an entirely new value.  We also see that we created a new variable ```y``` by assigning it to the value stored in ```x```, and that making changes to ```x``` afterward didn't change the value of ```y```.  The variable ```y``` took on the value of ```x``` at the time of the assignment, but wasn't tied to the variable ```x``` afterward.\n",
    "\n",
    "Now we've talked about variable assignment, so we now know the difference between a piece of text, or a character string, and a variable name.  Let's take a look at the operations we can perform with strings."
   ]
  },
  {
   "cell_type": "code",
   "execution_count": null,
   "metadata": {
    "ExecuteTime": {
     "end_time": "2018-05-27T21:53:54.131000Z",
     "start_time": "2018-05-27T21:53:54.123000Z"
    },
    "id": "fvy8pt-LrU8y",
    "outputId": "c401b1e7-0d52-4db9-ed38-63a481b4fa78"
   },
   "outputs": [
    {
     "name": "stdout",
     "output_type": "stream",
     "text": [
      "<type 'str'>\n",
      "A string\n",
      "LaLaLaLaLa\n"
     ]
    }
   ],
   "source": [
    "# String operatons\n",
    "\n",
    "print(type(\"A string\"))        # Check whether something is a character string\n",
    "\n",
    "print(\"A\" + \" \" + \"string\")    # Concatenation\n",
    "print(\"La\" * 5)                # Duplication"
   ]
  },
  {
   "cell_type": "markdown",
   "metadata": {
    "id": "lFN3tSzqrU8y"
   },
   "source": [
    "Strings also have an interesting property we haven't seen yet in the other data types we've discussed so far.  A string is actually considered a collection of individual characters, and we can access individual characters, or even groups of characters using something called indexing.  In the Python language, indexing starts at 0, so the first element in a collection is actually the 0-th element, the second element is the 1-st, and so on.  We can also see how many characters long the string is using the ```len()``` function."
   ]
  },
  {
   "cell_type": "code",
   "execution_count": null,
   "metadata": {
    "ExecuteTime": {
     "end_time": "2019-01-03T16:22:39.430000Z",
     "start_time": "2019-01-03T16:22:39.409000Z"
    },
    "id": "AF59hsBerU8y",
    "outputId": "624243ec-363c-45ae-bd99-9a8f057b8bb5"
   },
   "outputs": [
    {
     "name": "stdout",
     "output_type": "stream",
     "text": [
      "12\n",
      "H\n",
      "e\n",
      "!\n",
      "!\n",
      "d\n"
     ]
    }
   ],
   "source": [
    "# String Indexing\n",
    "\n",
    "s = \"Hello World!\"\n",
    "\n",
    "print(len(s))          # Get the length (in number of characters) of the character string\n",
    "\n",
    "print(s[0])            # Get the first character\n",
    "print(s[1])            # Get the second character\n",
    "print(s[len(s)-1])     # Get the last character\n",
    "print(s[-1])           # Get the last character\n",
    "print(s[-2])           # Get the second to last character"
   ]
  },
  {
   "cell_type": "code",
   "execution_count": null,
   "metadata": {
    "ExecuteTime": {
     "end_time": "2018-05-27T22:21:21.389000Z",
     "start_time": "2018-05-27T22:21:21.374000Z"
    },
    "id": "5h_7rvlSrU8y",
    "outputId": "02907e35-4cbe-4cf3-a53a-be16b4f4f22c"
   },
   "outputs": [
    {
     "name": "stdout",
     "output_type": "stream",
     "text": [
      "Hel\n",
      "Hel\n",
      "lo World!\n",
      "lo W\n",
      "ello World\n",
      "Hello \n",
      "World!\n"
     ]
    }
   ],
   "source": [
    "# String Indexing - substrings\n",
    "\n",
    "# Notice that the intervals given are \"half open\" or \"open on the right\"\n",
    "# This means the number on the right, the \"stop\" number, is not included\n",
    "# in the interval.\n",
    "\n",
    "print(s[0:3])          # Get the first three characters\n",
    "print(s[:3])           # Get the first three characters (shorthand)\n",
    "print(s[3:])           # Get all the characters from the fourth character on\n",
    "print(s[3:7])          # Get the fourth character through the seventh character\n",
    "print(s[1:-1])         # Get the second character through the second to last character\n",
    "print(s[:len(s)//2])   # Get the first half of the string\n",
    "print(s[len(s)//2:])   # Get the last half of the string"
   ]
  },
  {
   "cell_type": "markdown",
   "metadata": {
    "id": "S8D4hfburU8z"
   },
   "source": [
    "We can also get substrings in the reverse order."
   ]
  },
  {
   "cell_type": "code",
   "execution_count": null,
   "metadata": {
    "ExecuteTime": {
     "end_time": "2018-05-27T22:33:28.903000Z",
     "start_time": "2018-05-27T22:33:28.899000Z"
    },
    "id": "o7RbrNagrU8z",
    "outputId": "624bfe2c-cb10-4e64-a8d7-2b5c3356c0a9"
   },
   "outputs": [
    {
     "name": "stdout",
     "output_type": "stream",
     "text": [
      "!dl\n",
      "roW olleH\n",
      "!dlroW olleH\n",
      "dlroW olle\n"
     ]
    }
   ],
   "source": [
    "# String Indexing - reverse indexing\n",
    "\n",
    "print(s[:-4:-1])          # Get the last three characters in reverse order\n",
    "print(s[-4::-1])          # Get from the fouth to last character to the beginning in reverse order\n",
    "print(s[::-1])            # Get the whole string in reverse order\n",
    "print(s[-2:0:-1])         # Get from the second to last character to the second character in reverse order"
   ]
  },
  {
   "cell_type": "markdown",
   "metadata": {
    "id": "E7q2keuwrU8z"
   },
   "source": [
    "So we can say that, in general, indexing is done in the following way ```[start:stop:step]```, where the first value tells Python where to start (included), the second value tells Python where to stop (not included), and the third value tells Python the step pattern it's supposed to use to get from the start to the stop.  If no value is supplied for these particular inputs for how to index, Python inserts some default numbers, 0 for start, end for stop, and 1 for step.\n",
    "\n",
    "The ```step``` input can also be any number."
   ]
  },
  {
   "cell_type": "code",
   "execution_count": null,
   "metadata": {
    "ExecuteTime": {
     "end_time": "2018-05-27T22:44:17.340000Z",
     "start_time": "2018-05-27T22:44:17.332000Z"
    },
    "id": "yOeBewThrU8z",
    "outputId": "db22eee0-dbda-4953-8c47-11aebad2156c"
   },
   "outputs": [
    {
     "name": "stdout",
     "output_type": "stream",
     "text": [
      "Hello World!\n",
      "HloWrd\n",
      "el ol!\n"
     ]
    }
   ],
   "source": [
    "# String Indexing - step examples\n",
    "\n",
    "print(s[::])           # Defaults - get the whole character string\n",
    "print(s[::2])          # Get every odd character\n",
    "print(s[1::2])         # Get every even character"
   ]
  },
  {
   "cell_type": "markdown",
   "metadata": {
    "id": "FHMz-7ijrU80"
   },
   "source": [
    "The fact that we can index in so many different ways makes indexing extremely powerful in Python.  Other languages also lack the ability to index directly into a character string in this way, which is why Python is also the go-to language for Natural Language Processing and text manipulation."
   ]
  },
  {
   "cell_type": "code",
   "execution_count": null,
   "metadata": {
    "ExecuteTime": {
     "end_time": "2019-01-03T16:47:44.867000Z",
     "start_time": "2019-01-03T16:47:44.837000Z"
    },
    "id": "2Lx_sk16rU80",
    "outputId": "f9614aab-13d8-46cb-9740-9247c42de0d2"
   },
   "outputs": [
    {
     "name": "stdout",
     "output_type": "stream",
     "text": [
      "False\n",
      "False\n",
      "True\n",
      "True\n",
      "True\n",
      "False\n",
      "a string\n",
      "True\n",
      "True\n",
      "a\n"
     ]
    }
   ],
   "source": [
    "# logical operators and comparisons on strings\n",
    "\n",
    "s1 = \"a\"\n",
    "s2 = \"b\"\n",
    "s3 = \"A string\"\n",
    "s4 = \"a string\"\n",
    "s5 = \"string\"\n",
    "\n",
    "print(s1 == s2)\n",
    "print(s3 == s4)\n",
    "print(s3.lower() == s4)\n",
    "print(s3 == s4.capitalize())\n",
    "print(s4.islower())\n",
    "print(s3.islower())\n",
    "print(s1 + \" \" + s5)\n",
    "print(s4 == s1 + \" \" + s5)\n",
    "print(s1 == s4[0])\n",
    "print(s4[0])"
   ]
  },
  {
   "cell_type": "code",
   "execution_count": null,
   "metadata": {
    "ExecuteTime": {
     "end_time": "2019-01-03T16:47:49.750000Z",
     "start_time": "2019-01-03T16:47:49.693000Z"
    },
    "id": "JOemz-A6rU80",
    "outputId": "1007154b-6c27-4eab-fdab-09d0e6b965f0"
   },
   "outputs": [
    {
     "ename": "TypeError",
     "evalue": "'str' object does not support item assignment",
     "output_type": "error",
     "traceback": [
      "\u001b[1;31m---------------------------------------------------------------------------\u001b[0m",
      "\u001b[1;31mTypeError\u001b[0m                                 Traceback (most recent call last)",
      "\u001b[1;32m<ipython-input-12-f9576afbd5bc>\u001b[0m in \u001b[0;36m<module>\u001b[1;34m()\u001b[0m\n\u001b[1;32m----> 1\u001b[1;33m \u001b[0ms4\u001b[0m\u001b[1;33m[\u001b[0m\u001b[1;36m0\u001b[0m\u001b[1;33m]\u001b[0m \u001b[1;33m=\u001b[0m \u001b[1;34m\"A\"\u001b[0m\u001b[1;33m\u001b[0m\u001b[0m\n\u001b[0m",
      "\u001b[1;31mTypeError\u001b[0m: 'str' object does not support item assignment"
     ]
    }
   ],
   "source": [
    "s4[0] = \"A\""
   ]
  },
  {
   "cell_type": "code",
   "execution_count": null,
   "metadata": {
    "ExecuteTime": {
     "end_time": "2018-08-23T13:06:30.006000Z",
     "start_time": "2018-08-23T13:06:30Z"
    },
    "id": "0BfmpOZPrU81",
    "outputId": "28e47354-f51c-4b92-ddf1-399458b37120"
   },
   "outputs": [
    {
     "name": "stdout",
     "output_type": "stream",
     "text": [
      "The current value of x is 3, and the current value of y is 4, which is greater than 3.\n"
     ]
    }
   ],
   "source": [
    "x = 3\n",
    "y = 4\n",
    "\n",
    "print(\"The current value of x is {a}, and the current value of y is {b}, which is greater than {a}.\".format(a = x, b = y))"
   ]
  },
  {
   "cell_type": "code",
   "execution_count": null,
   "metadata": {
    "id": "07gQCfQdrU81",
    "outputId": "9a01744a-e9ec-47d8-aae2-7cd6d54a9a6f"
   },
   "outputs": [
    {
     "name": "stdout",
     "output_type": "stream",
     "text": [
      "The current value of x is 3.000.\n"
     ]
    }
   ],
   "source": [
    "print(f\"The current value of x is {x:0.3f}.\")"
   ]
  },
  {
   "cell_type": "markdown",
   "metadata": {
    "id": "u0Ym99FBrU81"
   },
   "source": [
    "## Collections\n",
    "\n",
    "### Lists\n",
    "\n",
    "We will now move on to Python data structures which are collections of other objects.  The first we will discuss is the Python list."
   ]
  },
  {
   "cell_type": "code",
   "execution_count": null,
   "metadata": {
    "ExecuteTime": {
     "end_time": "2018-08-21T13:11:50.283000Z",
     "start_time": "2018-08-21T13:11:50.276000Z"
    },
    "id": "MwjjUZUPrU81",
    "outputId": "61801f51-a3eb-49fc-f4fb-69c6e6483daa"
   },
   "outputs": [
    {
     "name": "stdout",
     "output_type": "stream",
     "text": [
      "[1, 2, 3, 4, 5]\n",
      "<type 'list'>\n"
     ]
    }
   ],
   "source": [
    "l = [1,2,3,4,5]\n",
    "print(l)\n",
    "print(type(l))"
   ]
  },
  {
   "cell_type": "markdown",
   "metadata": {
    "id": "SM9rTDCPrU82"
   },
   "source": [
    "Lists are arguably the most versatile and flexible of the collections in Python.  Lists can contain any combination of object types."
   ]
  },
  {
   "cell_type": "code",
   "execution_count": null,
   "metadata": {
    "ExecuteTime": {
     "end_time": "2018-08-21T13:11:54.391000Z",
     "start_time": "2018-08-21T13:11:54.385000Z"
    },
    "id": "MhE0V0PwrU82",
    "outputId": "f2b3f962-e56a-43a1-9c4a-bffcb8428d2e"
   },
   "outputs": [
    {
     "name": "stdout",
     "output_type": "stream",
     "text": [
      "[1, '2', 'three', 4.0, True]\n"
     ]
    }
   ],
   "source": [
    "l = [1, \"2\", \"three\", 4.0, True]\n",
    "print l"
   ]
  },
  {
   "cell_type": "markdown",
   "metadata": {
    "id": "HIPWrLB8rU82"
   },
   "source": [
    "Lists can be indexed or subsetted in exactly the same way as strings."
   ]
  },
  {
   "cell_type": "code",
   "execution_count": null,
   "metadata": {
    "ExecuteTime": {
     "end_time": "2018-08-21T13:11:56.605000Z",
     "start_time": "2018-08-21T13:11:56.597000Z"
    },
    "id": "cDGa4BQMrU83",
    "outputId": "69823070-abbc-4063-e48e-24bb0a298d99"
   },
   "outputs": [
    {
     "name": "stdout",
     "output_type": "stream",
     "text": [
      "[1, '2', 'three']\n",
      "[4.0, True]\n",
      "['2', 'three', 4.0]\n",
      "[True, 4.0, 'three', '2', 1]\n"
     ]
    }
   ],
   "source": [
    "print l[:3]\n",
    "print l[3:]\n",
    "print l[1:-1]\n",
    "print l[::-1]"
   ]
  },
  {
   "cell_type": "markdown",
   "metadata": {
    "id": "6F_LqAJMrU83"
   },
   "source": [
    "Lists are also \"mutable,\" which means each element can be reassigned or changed."
   ]
  },
  {
   "cell_type": "code",
   "execution_count": null,
   "metadata": {
    "ExecuteTime": {
     "end_time": "2018-08-21T13:12:01.191000Z",
     "start_time": "2018-08-21T13:12:01.179000Z"
    },
    "id": "SJaD3Ii0rU83",
    "outputId": "1053eceb-bd65-4ee1-a87d-564bcb58ae96"
   },
   "outputs": [
    {
     "name": "stdout",
     "output_type": "stream",
     "text": [
      "[1, 2, 'three', 4.0, True]\n"
     ]
    }
   ],
   "source": [
    "l[1] = 2\n",
    "print l"
   ]
  },
  {
   "cell_type": "markdown",
   "metadata": {
    "ExecuteTime": {
     "end_time": "2018-08-14T16:31:24.850000Z",
     "start_time": "2018-08-14T16:31:24.839000Z"
    },
    "id": "pfkhNSDrrU83"
   },
   "source": [
    "Lists also have the same basic operations we saw with strings."
   ]
  },
  {
   "cell_type": "code",
   "execution_count": null,
   "metadata": {
    "ExecuteTime": {
     "end_time": "2018-08-21T13:12:06.585000Z",
     "start_time": "2018-08-21T13:12:06.577000Z"
    },
    "id": "3MGooh3drU83",
    "outputId": "d4812d5b-dc96-4a7e-93d7-f093d81ee46f"
   },
   "outputs": [
    {
     "name": "stdout",
     "output_type": "stream",
     "text": [
      "[1, 2, 3, 'four', 'five', 'six']\n",
      "[1, 2, 3, 1, 2, 3, 1, 2, 3]\n"
     ]
    }
   ],
   "source": [
    "l1 = [1, 2, 3]\n",
    "l2 = [\"four\", \"five\", \"six\"]\n",
    "\n",
    "print l1 + l2     # Concatenation\n",
    "print l1 * 3      # Duplication"
   ]
  },
  {
   "cell_type": "markdown",
   "metadata": {
    "id": "hfywl7UrrU84"
   },
   "source": [
    "Like all other data types, lists also have quite a few handy methods."
   ]
  },
  {
   "cell_type": "code",
   "execution_count": null,
   "metadata": {
    "ExecuteTime": {
     "end_time": "2018-08-21T13:12:10.655000Z",
     "start_time": "2018-08-21T13:12:10.644000Z"
    },
    "id": "3OaIydeWrU84",
    "outputId": "34afadee-31f2-4c03-de5f-7a714a58af6a"
   },
   "outputs": [
    {
     "name": "stdout",
     "output_type": "stream",
     "text": [
      "[True, 4.0, 'three', 2, 1]\n",
      "[True, 4.0, 'three', 2, 1, 0]\n",
      "1\n",
      "1\n",
      "[4.0, 'three', 2, 1, 0]\n",
      "[0, 1, 2, 4.0, 'three']\n"
     ]
    }
   ],
   "source": [
    "l.reverse()                # Reverse the order of list elements\n",
    "print l\n",
    "l.append(0)                # Add an element to the end of the list\n",
    "print l\n",
    "print l.index(4.0)         # Get the index of an element in the list\n",
    "print l.count(\"three\")     # Count the number of times an element occurs in the list\n",
    "l.remove(True)             # Remove the first occurance of an element in the list\n",
    "print l\n",
    "l.sort()                   # Sort the elements in a list\n",
    "print l"
   ]
  },
  {
   "cell_type": "markdown",
   "metadata": {
    "id": "7ks17kBHrU84"
   },
   "source": [
    "There are a huge number of list methods.  The ones shown above are just a few examples of commonly used methods."
   ]
  },
  {
   "cell_type": "markdown",
   "metadata": {
    "ExecuteTime": {
     "end_time": "2018-08-14T16:32:19.830000Z",
     "start_time": "2018-08-14T16:32:19.820000Z"
    },
    "id": "4V4su4gtrU84"
   },
   "source": [
    "### Tuples\n",
    "\n",
    "Very similar to lists are the tuple class.  We see that, like lists, tuples can also contain any combination of data types."
   ]
  },
  {
   "cell_type": "code",
   "execution_count": null,
   "metadata": {
    "ExecuteTime": {
     "end_time": "2019-01-03T16:43:32.148000Z",
     "start_time": "2019-01-03T16:43:32.139000Z"
    },
    "id": "v1vxF8x2rU85",
    "outputId": "d7340d7b-a769-4ef4-d264-727204b24a68"
   },
   "outputs": [
    {
     "name": "stdout",
     "output_type": "stream",
     "text": [
      "(1, '2', 'three', 4.0, True)\n",
      "<type 'tuple'>\n"
     ]
    }
   ],
   "source": [
    "t = (1, \"2\", \"three\", 4.0, True)\n",
    "print(t)\n",
    "print(type(t))"
   ]
  },
  {
   "cell_type": "markdown",
   "metadata": {
    "id": "wboh0qeprU85"
   },
   "source": [
    "Tuples can be indexed in the same way as lists."
   ]
  },
  {
   "cell_type": "code",
   "execution_count": null,
   "metadata": {
    "ExecuteTime": {
     "end_time": "2018-08-21T13:14:56.189000Z",
     "start_time": "2018-08-21T13:14:56.181000Z"
    },
    "id": "wm_Le2kfrU85",
    "outputId": "b3b9003c-18d8-4862-c28f-a9d4f39d39ea"
   },
   "outputs": [
    {
     "name": "stdout",
     "output_type": "stream",
     "text": [
      "1\n",
      "(1, '2', 'three')\n",
      "(4.0, True)\n",
      "('2', 'three', 4.0)\n"
     ]
    }
   ],
   "source": [
    "print t[0]\n",
    "print t[:3]\n",
    "print t[3:]\n",
    "print t[1:-1]"
   ]
  },
  {
   "cell_type": "markdown",
   "metadata": {
    "id": "4OVAz4F9rU85"
   },
   "source": [
    "Tuples also have the same basic operations."
   ]
  },
  {
   "cell_type": "code",
   "execution_count": null,
   "metadata": {
    "ExecuteTime": {
     "end_time": "2018-08-21T12:36:21.075000Z",
     "start_time": "2018-08-21T12:36:21.066000Z"
    },
    "id": "qWzY0ACbrU86",
    "outputId": "a041c2e3-305e-4d4f-91ec-863d4fd8854d"
   },
   "outputs": [
    {
     "name": "stdout",
     "output_type": "stream",
     "text": [
      "(1, 2, 3, 'four', 'five', 'six')\n",
      "(1, 2, 3, 1, 2, 3, 1, 2, 3)\n"
     ]
    }
   ],
   "source": [
    "t1 = (1, 2, 3)\n",
    "t2 = (\"four\", \"five\", \"six\")\n",
    "\n",
    "print t1 + t2     # Concatenation\n",
    "print t1 * 3      # Duplication"
   ]
  },
  {
   "cell_type": "markdown",
   "metadata": {
    "id": "o3pU6jxnrU86"
   },
   "source": [
    "The primary difference between lists and tuples is that tuples are \"immutable.\"  The individual elements of a tuple cannot be altered."
   ]
  },
  {
   "cell_type": "code",
   "execution_count": null,
   "metadata": {
    "ExecuteTime": {
     "end_time": "2018-08-14T16:33:02.708000Z",
     "start_time": "2018-08-14T16:33:02.499000Z"
    },
    "id": "oJfHEFv7rU86",
    "outputId": "c7d35844-cc5b-421b-e87a-5bf07972fbfb"
   },
   "outputs": [
    {
     "ename": "TypeError",
     "evalue": "'tuple' object does not support item assignment",
     "output_type": "error",
     "traceback": [
      "\u001b[1;31m---------------------------------------------------------------------------\u001b[0m",
      "\u001b[1;31mTypeError\u001b[0m                                 Traceback (most recent call last)",
      "\u001b[1;32m<ipython-input-13-9d97237db197>\u001b[0m in \u001b[0;36m<module>\u001b[1;34m()\u001b[0m\n\u001b[1;32m----> 1\u001b[1;33m \u001b[0mt\u001b[0m\u001b[1;33m[\u001b[0m\u001b[1;36m1\u001b[0m\u001b[1;33m]\u001b[0m \u001b[1;33m=\u001b[0m \u001b[1;36m2\u001b[0m\u001b[1;33m\u001b[0m\u001b[0m\n\u001b[0m",
      "\u001b[1;31mTypeError\u001b[0m: 'tuple' object does not support item assignment"
     ]
    }
   ],
   "source": [
    "t[1] = 2"
   ]
  },
  {
   "cell_type": "markdown",
   "metadata": {
    "id": "sNV758DxrU86"
   },
   "source": [
    "As a consequence of this, tuples have a more limited selection of built-in methods.  Take a second look at the list methods and notice how many of them change the elements of the collection.  Notice that the tuple methods are only the ones that give us information about the elements, not the ones that change them."
   ]
  },
  {
   "cell_type": "code",
   "execution_count": null,
   "metadata": {
    "ExecuteTime": {
     "end_time": "2018-08-21T13:17:30.972000Z",
     "start_time": "2018-08-21T13:17:30.965000Z"
    },
    "id": "n7e1kYhFrU87",
    "outputId": "46094076-c51d-485f-f2d3-782013342a00"
   },
   "outputs": [
    {
     "name": "stdout",
     "output_type": "stream",
     "text": [
      "2\n",
      "1\n"
     ]
    }
   ],
   "source": [
    "print t.index(\"three\")     # Get the index of an element in the list\n",
    "print t.count(\"three\")     # Count the number of times an element occurs in a list"
   ]
  },
  {
   "cell_type": "markdown",
   "metadata": {
    "id": "snU-ipXZrU87"
   },
   "source": [
    "In order to change individual elements, we would need to have a list."
   ]
  },
  {
   "cell_type": "code",
   "execution_count": null,
   "metadata": {
    "ExecuteTime": {
     "end_time": "2019-01-03T16:45:32.825000Z",
     "start_time": "2019-01-03T16:45:32.811000Z"
    },
    "id": "mOP-g_9LrU87",
    "outputId": "7f17ee97-9ec0-4ea4-e515-2eb64e22ba31"
   },
   "outputs": [
    {
     "name": "stdout",
     "output_type": "stream",
     "text": [
      "<type 'list'>\n"
     ]
    }
   ],
   "source": [
    "t = list(t)\n",
    "print(type(t))"
   ]
  },
  {
   "cell_type": "markdown",
   "metadata": {
    "id": "CiyE3_hvrU87"
   },
   "source": [
    "Now we can make changes to individual elements."
   ]
  },
  {
   "cell_type": "code",
   "execution_count": null,
   "metadata": {
    "ExecuteTime": {
     "end_time": "2019-01-03T16:45:48.441000Z",
     "start_time": "2019-01-03T16:45:48.432000Z"
    },
    "id": "vGx6_10hrU87",
    "outputId": "1b3b9f53-5f2a-466b-b4e8-273b7cb3401c"
   },
   "outputs": [
    {
     "name": "stdout",
     "output_type": "stream",
     "text": [
      "[1, 2, 'three', 4.0, True]\n"
     ]
    }
   ],
   "source": [
    "t[1] = 2\n",
    "print(t)"
   ]
  },
  {
   "cell_type": "markdown",
   "metadata": {
    "ExecuteTime": {
     "end_time": "2018-08-14T16:33:42.869000Z",
     "start_time": "2018-08-14T16:33:42.855000Z"
    },
    "id": "OOY7YgbhrU88"
   },
   "source": [
    "But as long as our collection is a tuple, it can't be changed in this way."
   ]
  },
  {
   "cell_type": "code",
   "execution_count": null,
   "metadata": {
    "ExecuteTime": {
     "end_time": "2019-01-03T16:46:51.985000Z",
     "start_time": "2019-01-03T16:46:51.971000Z"
    },
    "id": "v-psHLFPrU88",
    "outputId": "afd4ad79-5936-42a1-9391-e63bc39470ae"
   },
   "outputs": [
    {
     "name": "stdout",
     "output_type": "stream",
     "text": [
      "<type 'tuple'>\n"
     ]
    }
   ],
   "source": [
    "t = tuple(t)\n",
    "print(type(t))"
   ]
  },
  {
   "cell_type": "code",
   "execution_count": null,
   "metadata": {
    "ExecuteTime": {
     "end_time": "2018-08-21T13:34:46.097000Z",
     "start_time": "2018-08-21T13:34:46.060000Z"
    },
    "id": "jUAIjBForU88",
    "outputId": "12280987-bb8d-480a-fd67-fb84008a4374"
   },
   "outputs": [
    {
     "ename": "TypeError",
     "evalue": "'tuple' object does not support item assignment",
     "output_type": "error",
     "traceback": [
      "\u001b[1;31m---------------------------------------------------------------------------\u001b[0m",
      "\u001b[1;31mTypeError\u001b[0m                                 Traceback (most recent call last)",
      "\u001b[1;32m<ipython-input-58-723fff15e223>\u001b[0m in \u001b[0;36m<module>\u001b[1;34m()\u001b[0m\n\u001b[1;32m----> 1\u001b[1;33m \u001b[0mt\u001b[0m\u001b[1;33m[\u001b[0m\u001b[1;36m1\u001b[0m\u001b[1;33m]\u001b[0m \u001b[1;33m=\u001b[0m \u001b[1;34m\"two\"\u001b[0m\u001b[1;33m\u001b[0m\u001b[0m\n\u001b[0m",
      "\u001b[1;31mTypeError\u001b[0m: 'tuple' object does not support item assignment"
     ]
    }
   ],
   "source": [
    "t[1] = \"two\""
   ]
  },
  {
   "cell_type": "markdown",
   "metadata": {
    "ExecuteTime": {
     "end_time": "2018-08-14T16:34:08.088000Z",
     "start_time": "2018-08-14T16:34:08.066000Z"
    },
    "id": "yjGBYmyGrU88"
   },
   "source": [
    "### Sets\n",
    "\n",
    "Another collection is the set.  These collections are like mathematical sets, in that they don't account for the frequency or order of individual elements."
   ]
  },
  {
   "cell_type": "code",
   "execution_count": null,
   "metadata": {
    "ExecuteTime": {
     "end_time": "2018-08-21T13:39:56.386000Z",
     "start_time": "2018-08-21T13:39:56.378000Z"
    },
    "id": "pmiJrQMMrU89",
    "outputId": "66c929e8-69c1-4f3e-fad5-0acc3928419d"
   },
   "outputs": [
    {
     "data": {
      "text/plain": [
       "{1, 2, 3, 4, 5, 6}"
      ]
     },
     "execution_count": 61,
     "metadata": {},
     "output_type": "execute_result"
    }
   ],
   "source": [
    "l = [1, 2, 6, 2, 3, 4, 5, 5, 5, 5, 5, 6, 3, 4, 3, 4]\n",
    "s = set(l)\n",
    "s"
   ]
  },
  {
   "cell_type": "markdown",
   "metadata": {
    "ExecuteTime": {
     "end_time": "2018-08-14T16:35:44.401000Z",
     "start_time": "2018-08-14T16:35:44.393000Z"
    },
    "collapsed": true,
    "id": "zmMVhHp8rU89"
   },
   "source": [
    "Because sets are not ordered, they can't be indexed as lists, tuples, and strings can."
   ]
  },
  {
   "cell_type": "code",
   "execution_count": null,
   "metadata": {
    "ExecuteTime": {
     "end_time": "2018-08-21T13:41:02.143000Z",
     "start_time": "2018-08-21T13:41:02.127000Z"
    },
    "id": "UK32oVLVrU89",
    "outputId": "66510859-6f56-4512-bdb0-3c8b9a75bd0f"
   },
   "outputs": [
    {
     "ename": "TypeError",
     "evalue": "'set' object does not support indexing",
     "output_type": "error",
     "traceback": [
      "\u001b[1;31m---------------------------------------------------------------------------\u001b[0m",
      "\u001b[1;31mTypeError\u001b[0m                                 Traceback (most recent call last)",
      "\u001b[1;32m<ipython-input-62-4e98c4f87897>\u001b[0m in \u001b[0;36m<module>\u001b[1;34m()\u001b[0m\n\u001b[1;32m----> 1\u001b[1;33m \u001b[0ms\u001b[0m\u001b[1;33m[\u001b[0m\u001b[1;36m0\u001b[0m\u001b[1;33m]\u001b[0m\u001b[1;33m\u001b[0m\u001b[0m\n\u001b[0m",
      "\u001b[1;31mTypeError\u001b[0m: 'set' object does not support indexing"
     ]
    }
   ],
   "source": [
    "s[0]"
   ]
  },
  {
   "cell_type": "markdown",
   "metadata": {
    "ExecuteTime": {
     "end_time": "2018-08-21T13:42:34.493000Z",
     "start_time": "2018-08-21T13:42:34.485000Z"
    },
    "id": "uaIvOMxKrU8-"
   },
   "source": [
    "Sets have a number of methods and operations which correspond to the set operations of mathematics."
   ]
  },
  {
   "cell_type": "code",
   "execution_count": null,
   "metadata": {
    "ExecuteTime": {
     "end_time": "2018-08-21T15:03:47.392000Z",
     "start_time": "2018-08-21T15:03:47.377000Z"
    },
    "id": "BH2GdJ-3rU8-",
    "outputId": "d0e75649-bd48-4c2a-8042-d7a708cd365b"
   },
   "outputs": [
    {
     "name": "stdout",
     "output_type": "stream",
     "text": [
      "set([4, 5])\n",
      "set([4, 5])\n",
      "set([2, 3])\n",
      "set([1, 2, 3, 4, 5])\n",
      "False\n",
      "False\n",
      "set([0, 1, 2, 3])\n",
      "set([])\n"
     ]
    }
   ],
   "source": [
    "s1 = set([1,2,3])\n",
    "s2 = set([2,3,4,5])\n",
    "\n",
    "print s2 - s1               # Set difference as an operation\n",
    "print s2.difference(s1)     # Set difference as a method\n",
    "print s1.intersection(s2)   # Set intersection\n",
    "print s1.union(s2)          # Set union\n",
    "print s1.isdisjoint(s2)     # Logical check whether two sets are disjoint\n",
    "print s1.issubset(s2)       # Logical check for subsets\n",
    "s1.add(0)                   # Add an element to a set\n",
    "print s1\n",
    "s1.clear()\n",
    "print s1                    # Remove all elements from a set"
   ]
  },
  {
   "cell_type": "markdown",
   "metadata": {
    "id": "NdD55yr4rU8-"
   },
   "source": [
    "### Dictionaries\n",
    "\n",
    "Another extremely useful data structure of Python, and the last of the collections we will discuss, is the Python dictionary.  A dictionary can be thought of as a set of key-value pairs as seen below."
   ]
  },
  {
   "cell_type": "code",
   "execution_count": null,
   "metadata": {
    "ExecuteTime": {
     "end_time": "2019-01-03T17:03:04.592000Z",
     "start_time": "2019-01-03T17:03:04.588000Z"
    },
    "collapsed": true,
    "id": "quOXJA72rU8-"
   },
   "outputs": [],
   "source": [
    "d = {\"key1\":\"value1\", \"key2\":\"value2\"}"
   ]
  },
  {
   "cell_type": "markdown",
   "metadata": {
    "id": "-pcmEXNprU8_"
   },
   "source": [
    "We see that each key is separated by a colon from its corresponding value, and each key-value pair is separated by a comma.  Dictionaries are more closely related to sets, than to the other collections, as they are also unordered and can't be indexed."
   ]
  },
  {
   "cell_type": "code",
   "execution_count": null,
   "metadata": {
    "ExecuteTime": {
     "end_time": "2019-01-03T17:03:08.325000Z",
     "start_time": "2019-01-03T17:03:08.306000Z"
    },
    "id": "UWhXFIfjrU8_",
    "outputId": "16e8abaa-d441-4e5f-89d5-0ccfb00d7e07"
   },
   "outputs": [
    {
     "ename": "KeyError",
     "evalue": "0",
     "output_type": "error",
     "traceback": [
      "\u001b[1;31m---------------------------------------------------------------------------\u001b[0m",
      "\u001b[1;31mKeyError\u001b[0m                                  Traceback (most recent call last)",
      "\u001b[1;32m<ipython-input-15-17371c6688f6>\u001b[0m in \u001b[0;36m<module>\u001b[1;34m()\u001b[0m\n\u001b[1;32m----> 1\u001b[1;33m \u001b[0md\u001b[0m\u001b[1;33m[\u001b[0m\u001b[1;36m0\u001b[0m\u001b[1;33m]\u001b[0m\u001b[1;33m\u001b[0m\u001b[0m\n\u001b[0m",
      "\u001b[1;31mKeyError\u001b[0m: 0"
     ]
    }
   ],
   "source": [
    "d[0]"
   ]
  },
  {
   "cell_type": "markdown",
   "metadata": {
    "id": "UHi2038RrU9A"
   },
   "source": [
    "Rather than calling objects in a list by an index, we can call values contained in a dictionary by their corresponding key."
   ]
  },
  {
   "cell_type": "code",
   "execution_count": null,
   "metadata": {
    "ExecuteTime": {
     "end_time": "2019-01-03T17:03:33.816000Z",
     "start_time": "2019-01-03T17:03:33.801000Z"
    },
    "id": "GhjaJ3VNrU9A",
    "outputId": "8c2be6a8-16fb-4883-a89f-dbf4057cd5fc"
   },
   "outputs": [
    {
     "data": {
      "text/plain": [
       "'value1'"
      ]
     },
     "execution_count": 16,
     "metadata": {},
     "output_type": "execute_result"
    }
   ],
   "source": [
    "d[\"key1\"]"
   ]
  },
  {
   "cell_type": "markdown",
   "metadata": {
    "id": "DrchSvRdrU9A"
   },
   "source": [
    "Keys and values don't necessarily need to be strings or single values.  These can in turn be other collections.  Consider the following example."
   ]
  },
  {
   "cell_type": "code",
   "execution_count": null,
   "metadata": {
    "ExecuteTime": {
     "end_time": "2018-08-21T15:20:41.632000Z",
     "start_time": "2018-08-21T15:20:41.624000Z"
    },
    "collapsed": true,
    "id": "300ytakZrU9A"
   },
   "outputs": [],
   "source": [
    "d = {\n",
    "    \"address\": [\"123 Elm St\", \"451 N Broadway\", \"1221 W Sunset Blvd\"],\n",
    "    \"beds\": [2, 3, 5],\n",
    "    \"baths\": [1, 2, 6],\n",
    "    \"price\": [110000, 250000, 1250000]\n",
    "    }"
   ]
  },
  {
   "cell_type": "markdown",
   "metadata": {
    "id": "ocC8IRGErU9B"
   },
   "source": [
    "Since these value objects are themselves lists, they can be indexed once called."
   ]
  },
  {
   "cell_type": "code",
   "execution_count": null,
   "metadata": {
    "ExecuteTime": {
     "end_time": "2018-08-21T15:24:09.028000Z",
     "start_time": "2018-08-21T15:24:09.020000Z"
    },
    "id": "UxIbQ7KOrU9B",
    "outputId": "1fd6bb68-eb50-4d5e-8828-332e56ddeaf8"
   },
   "outputs": [
    {
     "name": "stdout",
     "output_type": "stream",
     "text": [
      "['123 Elm St', '451 N Broadway', '1221 W Sunset Blvd']\n",
      "123 Elm St\n",
      "[250000, 1250000]\n"
     ]
    }
   ],
   "source": [
    "print d[\"address\"]\n",
    "print d[\"address\"][0]\n",
    "print d[\"price\"][1:]"
   ]
  },
  {
   "cell_type": "markdown",
   "metadata": {
    "id": "auZbxSpPrU9C"
   },
   "source": [
    "Dictionaries also have a long list of methods."
   ]
  },
  {
   "cell_type": "code",
   "execution_count": null,
   "metadata": {
    "ExecuteTime": {
     "end_time": "2018-08-21T15:49:29.546000Z",
     "start_time": "2018-08-21T15:49:29.534000Z"
    },
    "id": "ucYCxQksrU9D",
    "outputId": "2fab4f71-cbef-46b2-8d1a-1a1ab10a932d"
   },
   "outputs": [
    {
     "name": "stdout",
     "output_type": "stream",
     "text": [
      "[('beds', [2, 3, 5]), ('price', [110000, 250000, 1250000]), ('baths', [1, 2, 6]), ('address', ['123 Elm St', '451 N Broadway', '1221 W Sunset Blvd'])]\n",
      "['beds', 'price', 'baths', 'address']\n",
      "[[2, 3, 5], [110000, 250000, 1250000], [1, 2, 6], ['123 Elm St', '451 N Broadway', '1221 W Sunset Blvd']]\n"
     ]
    }
   ],
   "source": [
    "print d.items()               # Returns a list of tuples where each tuple contains a key-value pair\n",
    "print d.keys()                # Returns a list of the dictionary keys\n",
    "print d.values()              # Returns a list of the dictionary values"
   ]
  },
  {
   "cell_type": "code",
   "execution_count": null,
   "metadata": {
    "ExecuteTime": {
     "end_time": "2018-08-23T13:23:58.410000Z",
     "start_time": "2018-08-23T13:23:58.404000Z"
    },
    "collapsed": true,
    "id": "r9Yd_gxSrU9D"
   },
   "outputs": [],
   "source": [
    "t = (1,2,3)\n",
    "\n",
    "x, y, z = t"
   ]
  },
  {
   "cell_type": "code",
   "execution_count": null,
   "metadata": {
    "ExecuteTime": {
     "end_time": "2018-08-23T13:24:17.505000Z",
     "start_time": "2018-08-23T13:24:17.498000Z"
    },
    "id": "HpEW3qs5rU9D",
    "outputId": "7f3cb30e-72c9-47a1-86ab-19a5c7046c74"
   },
   "outputs": [
    {
     "name": "stdout",
     "output_type": "stream",
     "text": [
      "1\n",
      "2\n",
      "3\n"
     ]
    }
   ],
   "source": [
    "print(x)\n",
    "print(y)\n",
    "print(z)"
   ]
  },
  {
   "cell_type": "markdown",
   "metadata": {
    "id": "y4Sg0qm4rU9E"
   },
   "source": [
    "## Loops\n",
    "\n",
    "Often in programming, a set of instructions needs to be repeated a set number of times or until some condition is met.  In these cases, it doesn't make sense to write the same code over and over again.  This process would be needlessly time consuming and inefficient, as well as prone to human error.\n",
    "\n",
    "For these situations we employ loops.\n",
    "\n",
    "### For Loops\n",
    "\n",
    "Consider the following list.  Say we'd like to square each element of this list.  Let's see what happens when we try to apply the operation to the list directly."
   ]
  },
  {
   "cell_type": "code",
   "execution_count": null,
   "metadata": {
    "ExecuteTime": {
     "end_time": "2018-08-23T13:29:29.638000Z",
     "start_time": "2018-08-23T13:29:29.621000Z"
    },
    "id": "EWF9Vfl8rU9E",
    "outputId": "7f6511cc-d594-4f4d-cbdb-faf7dac410d0"
   },
   "outputs": [
    {
     "ename": "TypeError",
     "evalue": "unsupported operand type(s) for ** or pow(): 'list' and 'int'",
     "output_type": "error",
     "traceback": [
      "\u001b[1;31m---------------------------------------------------------------------------\u001b[0m",
      "\u001b[1;31mTypeError\u001b[0m                                 Traceback (most recent call last)",
      "\u001b[1;32m<ipython-input-33-2fb813a4f638>\u001b[0m in \u001b[0;36m<module>\u001b[1;34m()\u001b[0m\n\u001b[0;32m      1\u001b[0m \u001b[0ml\u001b[0m \u001b[1;33m=\u001b[0m \u001b[1;33m[\u001b[0m\u001b[1;36m1\u001b[0m\u001b[1;33m,\u001b[0m\u001b[1;36m2\u001b[0m\u001b[1;33m,\u001b[0m\u001b[1;36m3\u001b[0m\u001b[1;33m,\u001b[0m\u001b[1;36m4\u001b[0m\u001b[1;33m,\u001b[0m\u001b[1;36m5\u001b[0m\u001b[1;33m]\u001b[0m\u001b[1;33m\u001b[0m\u001b[0m\n\u001b[1;32m----> 2\u001b[1;33m \u001b[0ml\u001b[0m\u001b[1;33m**\u001b[0m\u001b[1;36m2\u001b[0m\u001b[1;33m\u001b[0m\u001b[0m\n\u001b[0m",
      "\u001b[1;31mTypeError\u001b[0m: unsupported operand type(s) for ** or pow(): 'list' and 'int'"
     ]
    }
   ],
   "source": [
    "l = [1,2,3,4,5]\n",
    "l**2"
   ]
  },
  {
   "cell_type": "markdown",
   "metadata": {
    "ExecuteTime": {
     "end_time": "2018-08-21T15:55:00.079000Z",
     "start_time": "2018-08-21T15:55:00.055000Z"
    },
    "id": "zoGtvlrUrU9E"
   },
   "source": [
    "We see that this operation isn't defined in a way that supports list operands, and the Python interpreter returns an error.  In Python, lists and the other collections we've been discussing are also referred to as iterables.  That is, we can iterate through them one element at a time.  To iterate over these iterables, we employ the ```for``` loop.  We can achieve our goal of squaring each element of our list as follows."
   ]
  },
  {
   "cell_type": "code",
   "execution_count": null,
   "metadata": {
    "ExecuteTime": {
     "end_time": "2019-01-03T17:14:23.930000Z",
     "start_time": "2019-01-03T17:14:23.922000Z"
    },
    "id": "K-68653MrU9F",
    "outputId": "2149a43d-2a9b-4215-c94b-33f8fa7d9f7d"
   },
   "outputs": [
    {
     "name": "stdout",
     "output_type": "stream",
     "text": [
      "[1, 4, 9, 16, 25]\n"
     ]
    }
   ],
   "source": [
    "l = [1,2,3,4,5]\n",
    "\n",
    "for i in l:\n",
    "    l[i - 1] = i**2\n",
    "    \n",
    "print l"
   ]
  },
  {
   "cell_type": "code",
   "execution_count": null,
   "metadata": {
    "ExecuteTime": {
     "end_time": "2018-08-23T13:31:39.024000Z",
     "start_time": "2018-08-23T13:31:39.015000Z"
    },
    "id": "5r6Ha6vMrU9F",
    "outputId": "4b3006a8-b1ae-4645-f63f-c23a7b89ae96"
   },
   "outputs": [
    {
     "name": "stdout",
     "output_type": "stream",
     "text": [
      "[1, 2, 3, 4, 5]\n",
      "[1, 4, 3, 4, 5]\n",
      "[1, 4, 9, 4, 5]\n",
      "[1, 4, 9, 16, 5]\n",
      "[1, 4, 9, 16, 25]\n"
     ]
    }
   ],
   "source": [
    "l = [1,2,3,4,5]\n",
    "\n",
    "for i in l:\n",
    "    l[i - 1] = i**2\n",
    "    print l"
   ]
  },
  {
   "cell_type": "code",
   "execution_count": null,
   "metadata": {
    "ExecuteTime": {
     "end_time": "2018-08-23T13:33:01.957000Z",
     "start_time": "2018-08-23T13:33:01.948000Z"
    },
    "id": "th2ei9BErU9F",
    "outputId": "85515f29-61a8-4ef6-8d9d-c353e8c29cc6"
   },
   "outputs": [
    {
     "name": "stdout",
     "output_type": "stream",
     "text": [
      "[1, 4, 9, 16, 25]\n"
     ]
    }
   ],
   "source": [
    "l = [1,2,3,4,5]\n",
    "\n",
    "for i in xrange(len(l)):\n",
    "    l[i] = l[i]**2\n",
    "    \n",
    "print l"
   ]
  },
  {
   "cell_type": "markdown",
   "metadata": {
    "id": "FklVF0_trU9G"
   },
   "source": [
    "We see that the ```for``` loop iterated over each element of ```l``` and performed the set of instructions within the loop on each iteration.  The Python can tell what code is in the loop, and what code is not, by looking at the indent in the lines immediately after the declaration of the ```for``` statement.  To clarify, the structure of a ```for``` loop is as follows.\n",
    "\n",
    "```for index in iterable:```\n",
    "    ```code```\n",
    "    ```inside```\n",
    "    ```the```\n",
    "    ```loop```\n",
    "    \n",
    "```code not inside the loop```"
   ]
  },
  {
   "cell_type": "code",
   "execution_count": null,
   "metadata": {
    "ExecuteTime": {
     "end_time": "2018-08-23T13:41:15.051000Z",
     "start_time": "2018-08-23T13:41:15.042000Z"
    },
    "id": "K314mU3frU9G",
    "outputId": "112709fd-7ac1-464b-ff12-a33607257228"
   },
   "outputs": [
    {
     "name": "stdout",
     "output_type": "stream",
     "text": [
      "1\n",
      "1\n",
      "0\n",
      "0\n",
      "2\n",
      "2\n"
     ]
    }
   ],
   "source": [
    "d = {\"0\":0, \"1\":1, \"2\":2}\n",
    "\n",
    "for i, j in d.items():\n",
    "    print i\n",
    "    print j"
   ]
  },
  {
   "cell_type": "markdown",
   "metadata": {
    "id": "Ilzggl20rU9G"
   },
   "source": [
    "#### Comprehensions\n",
    "\n",
    "A construct unique to Python which makes very effective use of the ```for``` loop syntax is the \"Comprehension.\"  A Comprehension is simply a more concise way of constructing a collection using a simpler version of a ```for``` loop.  This is very useful when the collection we wish to construct will have a predictable pattern in its elements."
   ]
  },
  {
   "cell_type": "markdown",
   "metadata": {
    "id": "ruVLmcl7rU9G"
   },
   "source": [
    "##### List Comprehensions\n",
    "\n",
    "A list comprehension generates a list following some pattern as outlined in the code.  Let's look at some examples."
   ]
  },
  {
   "cell_type": "code",
   "execution_count": null,
   "metadata": {
    "ExecuteTime": {
     "end_time": "2018-08-24T07:52:02.168000Z",
     "start_time": "2018-08-24T07:52:02.153000Z"
    },
    "id": "_cGyKlKWrU9H",
    "outputId": "84bcf5b9-6f3d-41c4-9c83-dcf62d018dcc"
   },
   "outputs": [
    {
     "data": {
      "text/plain": [
       "[0, 1, 2, 3, 4, 5, 6, 7, 8, 9, 10, 11, 12, 13, 14, 15, 16, 17, 18, 19]"
      ]
     },
     "execution_count": 2,
     "metadata": {},
     "output_type": "execute_result"
    }
   ],
   "source": [
    "[i for i in range(20)]"
   ]
  },
  {
   "cell_type": "code",
   "execution_count": null,
   "metadata": {
    "ExecuteTime": {
     "end_time": "2018-08-24T07:52:30.537000Z",
     "start_time": "2018-08-24T07:52:30.527000Z"
    },
    "id": "vCFfP4DOrU9H",
    "outputId": "f738858c-ab6e-40c9-f8d0-3419879e6def"
   },
   "outputs": [
    {
     "data": {
      "text/plain": [
       "[0,\n",
       " 1,\n",
       " 4,\n",
       " 9,\n",
       " 16,\n",
       " 25,\n",
       " 36,\n",
       " 49,\n",
       " 64,\n",
       " 81,\n",
       " 100,\n",
       " 121,\n",
       " 144,\n",
       " 169,\n",
       " 196,\n",
       " 225,\n",
       " 256,\n",
       " 289,\n",
       " 324,\n",
       " 361]"
      ]
     },
     "execution_count": 3,
     "metadata": {},
     "output_type": "execute_result"
    }
   ],
   "source": [
    "[i**2 for i in range(20)]"
   ]
  },
  {
   "cell_type": "code",
   "execution_count": null,
   "metadata": {
    "ExecuteTime": {
     "end_time": "2019-01-03T17:29:42.279000Z",
     "start_time": "2019-01-03T17:29:42.269000Z"
    },
    "id": "znns4MjXrU9H",
    "outputId": "815a143e-936b-4d36-8e5c-d1d8056d677d"
   },
   "outputs": [
    {
     "data": {
      "text/plain": [
       "[-4, -4, -4, -4]"
      ]
     },
     "execution_count": 18,
     "metadata": {},
     "output_type": "execute_result"
    }
   ],
   "source": [
    "l1 = [1,2,3,4]\n",
    "l2 = [5,6,7,8]\n",
    "\n",
    "[i - j for i, j in zip(l1, l2)]"
   ]
  },
  {
   "cell_type": "code",
   "execution_count": null,
   "metadata": {
    "ExecuteTime": {
     "end_time": "2019-01-03T17:29:46.119000Z",
     "start_time": "2019-01-03T17:29:46.111000Z"
    },
    "id": "I2ypJrBvrU9I",
    "outputId": "e11f320c-b9e1-4d91-9790-dae561fdb45e"
   },
   "outputs": [
    {
     "data": {
      "text/plain": [
       "[True, True, True]"
      ]
     },
     "execution_count": 19,
     "metadata": {},
     "output_type": "execute_result"
    }
   ],
   "source": [
    "[i < j for i, j in zip(l1, l1[1:])]"
   ]
  },
  {
   "cell_type": "markdown",
   "metadata": {
    "id": "3sD9WuVcrU9I"
   },
   "source": [
    "Notice the very handy ```zip``` function.  This function \"zips\" two iterables together.  Let's look at an example of this to see what this function is doing."
   ]
  },
  {
   "cell_type": "code",
   "execution_count": null,
   "metadata": {
    "ExecuteTime": {
     "end_time": "2018-08-24T08:14:07.357000Z",
     "start_time": "2018-08-24T08:14:07.349000Z"
    },
    "id": "wmncxBbYrU9I",
    "outputId": "b3c770e6-70b9-40f0-fe55-1707b23a3da2"
   },
   "outputs": [
    {
     "data": {
      "text/plain": [
       "[(1, 5), (2, 6), (3, 7), (4, 8)]"
      ]
     },
     "execution_count": 8,
     "metadata": {},
     "output_type": "execute_result"
    }
   ],
   "source": [
    "zip(l1, l2)"
   ]
  },
  {
   "cell_type": "code",
   "execution_count": null,
   "metadata": {
    "ExecuteTime": {
     "end_time": "2018-08-24T08:14:31.294000Z",
     "start_time": "2018-08-24T08:14:31.287000Z"
    },
    "id": "Ibgu_0RGrU9J",
    "outputId": "e3219e0f-0593-42b6-8d3e-803e8064ab0d"
   },
   "outputs": [
    {
     "data": {
      "text/plain": [
       "[(1, 1), (2, 2), (3, 3), (4, 4)]"
      ]
     },
     "execution_count": 9,
     "metadata": {},
     "output_type": "execute_result"
    }
   ],
   "source": [
    "zip(l1, l1)"
   ]
  },
  {
   "cell_type": "code",
   "execution_count": null,
   "metadata": {
    "ExecuteTime": {
     "end_time": "2018-08-24T08:14:48.024000Z",
     "start_time": "2018-08-24T08:14:48.017000Z"
    },
    "id": "OfGI3qTErU9J",
    "outputId": "6bd9b6b8-1f9b-4136-9a36-d37525a30f51"
   },
   "outputs": [
    {
     "data": {
      "text/plain": [
       "[(1, 2), (2, 3), (3, 4)]"
      ]
     },
     "execution_count": 10,
     "metadata": {},
     "output_type": "execute_result"
    }
   ],
   "source": [
    "zip(l1, l1[1:])"
   ]
  },
  {
   "cell_type": "code",
   "execution_count": null,
   "metadata": {
    "ExecuteTime": {
     "end_time": "2018-08-24T08:15:32.095000Z",
     "start_time": "2018-08-24T08:15:32.087000Z"
    },
    "id": "y67l9jZzrU9J",
    "outputId": "a00b43a8-186c-46ae-e225-87e4a6bfa250"
   },
   "outputs": [
    {
     "data": {
      "text/plain": [
       "[(1, 2, 3), (2, 3, 4)]"
      ]
     },
     "execution_count": 11,
     "metadata": {},
     "output_type": "execute_result"
    }
   ],
   "source": [
    "zip(l1, l1[1:], l1[2:])"
   ]
  },
  {
   "cell_type": "markdown",
   "metadata": {
    "id": "dq7YKvHkrU9K"
   },
   "source": [
    "##### Dictionary Comprehensions\n",
    "\n",
    "The other type of comprehension is the dictionary comprehension.  We can use these to generate a dictionary as follows."
   ]
  },
  {
   "cell_type": "code",
   "execution_count": null,
   "metadata": {
    "ExecuteTime": {
     "end_time": "2018-08-24T07:55:40.586000Z",
     "start_time": "2018-08-24T07:55:40.579000Z"
    },
    "id": "-CX1xC_3rU9K",
    "outputId": "6a3741d9-4528-40a3-d5b9-baef85bf1028"
   },
   "outputs": [
    {
     "data": {
      "text/plain": [
       "{'0': 0, '1': 1, '2': 2, '3': 3, '4': 4}"
      ]
     },
     "execution_count": 6,
     "metadata": {},
     "output_type": "execute_result"
    }
   ],
   "source": [
    "{str(i):i for i in range(5)}"
   ]
  },
  {
   "cell_type": "code",
   "execution_count": null,
   "metadata": {
    "ExecuteTime": {
     "end_time": "2018-08-24T07:59:56.040000Z",
     "start_time": "2018-08-24T07:59:56.029000Z"
    },
    "id": "0GfYxAK5rU9K",
    "outputId": "4902a55c-2b30-4f93-f62b-88aa919b65ca"
   },
   "outputs": [
    {
     "data": {
      "text/plain": [
       "{'A': [10, 15.0, 20, 100],\n",
       " 'B': [20, 30.0, 40, 400],\n",
       " 'C': [30, 45.0, 60, 900],\n",
       " 'D': [40, 60.0, 80, 1600]}"
      ]
     },
     "execution_count": 7,
     "metadata": {},
     "output_type": "execute_result"
    }
   ],
   "source": [
    "x = [\"A\", \"B\", \"C\", \"D\"]\n",
    "y = [10, 20, 30, 40]\n",
    "\n",
    "{i:[j, j*1.5, j*2, j**2] for i, j in zip(x, y)}"
   ]
  },
  {
   "cell_type": "markdown",
   "metadata": {
    "id": "8GG3OYYqrU9L"
   },
   "source": [
    "##### Comprehensions within functions\n",
    "\n",
    "Many common functions also support this \"comprehension\" type syntax.  The following are some examples."
   ]
  },
  {
   "cell_type": "code",
   "execution_count": null,
   "metadata": {
    "ExecuteTime": {
     "end_time": "2018-08-24T08:19:24.364000Z",
     "start_time": "2018-08-24T08:19:24.355000Z"
    },
    "id": "LQIWMph5rU9L",
    "outputId": "c1f02041-9e20-4fa1-9bd7-08d2907c81fc"
   },
   "outputs": [
    {
     "data": {
      "text/plain": [
       "10"
      ]
     },
     "execution_count": 12,
     "metadata": {},
     "output_type": "execute_result"
    }
   ],
   "source": [
    "sum(i for i in range(5))"
   ]
  },
  {
   "cell_type": "code",
   "execution_count": null,
   "metadata": {
    "ExecuteTime": {
     "end_time": "2018-08-24T08:19:46.878000Z",
     "start_time": "2018-08-24T08:19:46.871000Z"
    },
    "id": "RhYV7SUMrU9S",
    "outputId": "497a6250-28cf-48aa-d991-e8188b922719"
   },
   "outputs": [
    {
     "data": {
      "text/plain": [
       "30"
      ]
     },
     "execution_count": 13,
     "metadata": {},
     "output_type": "execute_result"
    }
   ],
   "source": [
    "sum(i**2 for i in range(5))"
   ]
  },
  {
   "cell_type": "code",
   "execution_count": null,
   "metadata": {
    "ExecuteTime": {
     "end_time": "2018-08-24T08:20:21.585000Z",
     "start_time": "2018-08-24T08:20:21.578000Z"
    },
    "id": "HjjbDZxyrU9T",
    "outputId": "5c8643a5-48d2-41b1-fc8b-8ca9681a4983"
   },
   "outputs": [
    {
     "data": {
      "text/plain": [
       "0"
      ]
     },
     "execution_count": 15,
     "metadata": {},
     "output_type": "execute_result"
    }
   ],
   "source": [
    "min(i for i in range(5))"
   ]
  },
  {
   "cell_type": "code",
   "execution_count": null,
   "metadata": {
    "ExecuteTime": {
     "end_time": "2018-08-24T08:20:42.609000Z",
     "start_time": "2018-08-24T08:20:42.598000Z"
    },
    "id": "xw17onenrU9T",
    "outputId": "5f9babf8-6ddc-426d-c7b0-651572c6acd0"
   },
   "outputs": [
    {
     "data": {
      "text/plain": [
       "4"
      ]
     },
     "execution_count": 16,
     "metadata": {},
     "output_type": "execute_result"
    }
   ],
   "source": [
    "max(i for i in range(5))"
   ]
  },
  {
   "cell_type": "markdown",
   "metadata": {
    "id": "CQAhjdNurU9T"
   },
   "source": [
    "### While Loops\n",
    "\n",
    "Sometimes we need to perform the same set of instructions repeatedly, but we don't know the number of times we need to repeat the instructions and we don't have an iterable over which we can build our loop."
   ]
  },
  {
   "cell_type": "code",
   "execution_count": null,
   "metadata": {
    "ExecuteTime": {
     "end_time": "2018-08-24T09:07:12.782000Z",
     "start_time": "2018-08-24T09:07:12.774000Z"
    },
    "id": "iWaNQ64trU9T",
    "outputId": "9d41b5be-cfda-4405-c9f7-4b22b4dc4b88"
   },
   "outputs": [
    {
     "name": "stdout",
     "output_type": "stream",
     "text": [
      "15\n"
     ]
    }
   ],
   "source": [
    "total = 0\n",
    "\n",
    "for i in xrange(1, 6):\n",
    "    total += i\n",
    "    \n",
    "print total"
   ]
  },
  {
   "cell_type": "code",
   "execution_count": null,
   "metadata": {
    "ExecuteTime": {
     "end_time": "2018-08-24T09:07:44.991000Z",
     "start_time": "2018-08-24T09:07:44.979000Z"
    },
    "id": "unz6XenXrU9U",
    "outputId": "33d03b3d-babc-4838-8361-d8ce5236bb49"
   },
   "outputs": [
    {
     "name": "stdout",
     "output_type": "stream",
     "text": [
      "15\n"
     ]
    }
   ],
   "source": [
    "i = 1\n",
    "total = 0\n",
    "\n",
    "while i < 6:\n",
    "    total += i\n",
    "    i += 1\n",
    "    \n",
    "print total"
   ]
  },
  {
   "cell_type": "code",
   "execution_count": null,
   "metadata": {
    "collapsed": true,
    "id": "HEewdYK3rU9U"
   },
   "outputs": [],
   "source": [
    "continue\n",
    "pass\n",
    "break"
   ]
  },
  {
   "cell_type": "code",
   "execution_count": null,
   "metadata": {
    "ExecuteTime": {
     "end_time": "2019-01-03T17:36:48.474000Z",
     "start_time": "2019-01-03T17:36:48.469000Z"
    },
    "collapsed": true,
    "id": "AFwaHFvbrU9U"
   },
   "outputs": [],
   "source": [
    "def do_stuff(x):\n",
    "    pass"
   ]
  },
  {
   "cell_type": "code",
   "execution_count": null,
   "metadata": {
    "ExecuteTime": {
     "end_time": "2019-01-03T17:38:32.496000Z",
     "start_time": "2019-01-03T17:38:32.485000Z"
    },
    "id": "V-EvUPrgrU9U",
    "outputId": "fc8eed40-20ee-4223-df05-655aa9ffa43c"
   },
   "outputs": [
    {
     "name": "stdout",
     "output_type": "stream",
     "text": [
      "1\n",
      "3\n",
      "7\n",
      "9\n"
     ]
    }
   ],
   "source": [
    "for i in xrange(10):\n",
    "    if i == 5:\n",
    "        continue\n",
    "        \n",
    "    if i % 2 == 1:\n",
    "        print i"
   ]
  },
  {
   "cell_type": "code",
   "execution_count": null,
   "metadata": {
    "ExecuteTime": {
     "end_time": "2018-08-08T09:41:42.946000Z",
     "start_time": "2018-08-08T09:41:42.938000Z"
    },
    "id": "NXFKuvfsrU9U",
    "outputId": "9a3ae8af-91c5-45e7-da55-74090f1e2ffe"
   },
   "outputs": [
    {
     "name": "stdout",
     "output_type": "stream",
     "text": [
      "1\n",
      "3\n"
     ]
    }
   ],
   "source": [
    "i = 0\n",
    "\n",
    "while True:\n",
    "    if i % 2 == 1:\n",
    "        print i\n",
    "        \n",
    "    i += 1\n",
    "    \n",
    "    if i == 5:\n",
    "        break"
   ]
  },
  {
   "cell_type": "markdown",
   "metadata": {
    "id": "oq9ZDVSXrU9V"
   },
   "source": [
    "## Control Structures"
   ]
  },
  {
   "cell_type": "code",
   "execution_count": null,
   "metadata": {
    "collapsed": true,
    "id": "tNng1XyqrU9V"
   },
   "outputs": [],
   "source": [
    "if some_condition:\n",
    "    #do something\n",
    "    pass\n",
    "else:\n",
    "    #do something else\n",
    "    pass"
   ]
  },
  {
   "cell_type": "code",
   "execution_count": null,
   "metadata": {
    "ExecuteTime": {
     "end_time": "2019-01-03T17:43:21.929000Z",
     "start_time": "2019-01-03T17:43:21.920000Z"
    },
    "id": "zdNydWjhrU9V",
    "outputId": "9b3bb0e4-35fe-48c8-a8de-57a99e48eeee"
   },
   "outputs": [
    {
     "name": "stdout",
     "output_type": "stream",
     "text": [
      "x is medium\n"
     ]
    }
   ],
   "source": [
    "x = 17\n",
    "\n",
    "if x < 10:\n",
    "    print(\"x is small\")\n",
    "elif 10 <= x < 20:\n",
    "    print(\"x is medium\")\n",
    "elif 20 <= x < 30:\n",
    "    print(\"x is pretty big\")\n",
    "else:\n",
    "    print(\"x is large\")"
   ]
  },
  {
   "cell_type": "markdown",
   "metadata": {
    "id": "b9yufR22rU9V"
   },
   "source": [
    "## Functions"
   ]
  },
  {
   "cell_type": "code",
   "execution_count": null,
   "metadata": {
    "ExecuteTime": {
     "end_time": "2018-08-08T09:44:15.918000Z",
     "start_time": "2018-08-08T09:44:15.914000Z"
    },
    "collapsed": true,
    "id": "kQRKtWIdrU9V"
   },
   "outputs": [],
   "source": [
    "def name_of_function(arguments):\n",
    "    pass\n",
    "    #stuff in the function\n",
    "    \n",
    "#stuff not in the function"
   ]
  },
  {
   "cell_type": "code",
   "execution_count": null,
   "metadata": {
    "ExecuteTime": {
     "end_time": "2019-01-03T17:57:49.717000Z",
     "start_time": "2019-01-03T17:57:49.711000Z"
    },
    "collapsed": true,
    "id": "eeT_4lz0rU9W"
   },
   "outputs": [],
   "source": [
    "def reverse_rows(m = [[0,1], [2, 3]]):\n",
    "    \"\"\"\n",
    "    This is call the 'docstring' of your function.\n",
    "    It's a way to document what it does.\n",
    "        INPUT: m A matrix\n",
    "    \"\"\"\n",
    "    m.reverse()\n",
    "    return m"
   ]
  },
  {
   "cell_type": "code",
   "execution_count": null,
   "metadata": {
    "ExecuteTime": {
     "end_time": "2019-01-03T18:01:29.724000Z",
     "start_time": "2019-01-03T18:01:29.713000Z"
    },
    "id": "-rh2puIKrU9W",
    "outputId": "7c9665ff-7ee9-4128-c644-8a965f52fae9"
   },
   "outputs": [
    {
     "name": "stdout",
     "output_type": "stream",
     "text": [
      "[1, 2]\n",
      "[3, 4]\n"
     ]
    }
   ],
   "source": [
    "A = [[1,2],[3,4]]\n",
    "\n",
    "for i in A:\n",
    "    print i"
   ]
  },
  {
   "cell_type": "code",
   "execution_count": null,
   "metadata": {
    "ExecuteTime": {
     "end_time": "2019-01-03T18:01:34.720000Z",
     "start_time": "2019-01-03T18:01:34.712000Z"
    },
    "id": "McEp_I6grU9W",
    "outputId": "5c3d9b8b-bf97-4fd5-80df-fa2a2225ba01"
   },
   "outputs": [
    {
     "data": {
      "text/plain": [
       "[[1, 2], [3, 4]]"
      ]
     },
     "execution_count": 37,
     "metadata": {},
     "output_type": "execute_result"
    }
   ],
   "source": [
    "reverse_rows(A)"
   ]
  },
  {
   "cell_type": "code",
   "execution_count": null,
   "metadata": {
    "ExecuteTime": {
     "end_time": "2019-01-03T17:59:06.845000Z",
     "start_time": "2019-01-03T17:59:06.836000Z"
    },
    "id": "JBA8wHGjrU9W",
    "outputId": "5ffd865f-7758-413e-8f8b-599cb5edd7e9"
   },
   "outputs": [
    {
     "name": "stdout",
     "output_type": "stream",
     "text": [
      "[1, 2, 3, 4]\n",
      "[5, 6, 7, 8]\n",
      "[9, 10, 11, 12]\n",
      "[13, 14, 15, 16]\n"
     ]
    }
   ],
   "source": [
    "B = [[1,2,3,4], [5,6,7,8], [9, 10, 11, 12], [13, 14, 15, 16]]\n",
    "\n",
    "for i in B:\n",
    "    print i"
   ]
  },
  {
   "cell_type": "code",
   "execution_count": null,
   "metadata": {
    "ExecuteTime": {
     "end_time": "2018-08-24T09:33:26.253000Z",
     "start_time": "2018-08-24T09:33:26.245000Z"
    },
    "id": "SheyMafFrU9X",
    "outputId": "190b0c61-277d-4cd6-ff01-9a8e34d9996c"
   },
   "outputs": [
    {
     "data": {
      "text/plain": [
       "[[13, 14, 15, 16], [9, 10, 11, 12], [5, 6, 7, 8], [1, 2, 3, 4]]"
      ]
     },
     "execution_count": 28,
     "metadata": {},
     "output_type": "execute_result"
    }
   ],
   "source": [
    "reverse_rows(B)"
   ]
  },
  {
   "cell_type": "code",
   "execution_count": null,
   "metadata": {
    "ExecuteTime": {
     "end_time": "2018-08-24T09:33:39.280000Z",
     "start_time": "2018-08-24T09:33:39.272000Z"
    },
    "id": "dtrfGd6arU9X",
    "outputId": "8bea99ea-65d9-42f5-ee38-2682cc339293"
   },
   "outputs": [
    {
     "data": {
      "text/plain": [
       "[[2, 3], [0, 1]]"
      ]
     },
     "execution_count": 29,
     "metadata": {},
     "output_type": "execute_result"
    }
   ],
   "source": [
    "reverse_rows()"
   ]
  },
  {
   "cell_type": "code",
   "execution_count": null,
   "metadata": {
    "ExecuteTime": {
     "end_time": "2018-08-24T09:35:46.537000Z",
     "start_time": "2018-08-24T09:35:46.533000Z"
    },
    "collapsed": true,
    "id": "SLNnqkYbrU9X"
   },
   "outputs": [],
   "source": [
    "def k_means(X, K, beta = 1.0, max_iters = 30, conv = 1e-4):\n",
    "    pass"
   ]
  },
  {
   "cell_type": "code",
   "execution_count": null,
   "metadata": {
    "ExecuteTime": {
     "end_time": "2019-01-04T15:06:23.989000Z",
     "start_time": "2019-01-04T15:06:23.981000Z"
    },
    "collapsed": true,
    "id": "7yvLzPk8rU9X"
   },
   "outputs": [],
   "source": [
    "x = [1,2,3,4]\n",
    "y = x"
   ]
  },
  {
   "cell_type": "code",
   "execution_count": null,
   "metadata": {
    "ExecuteTime": {
     "end_time": "2019-01-04T15:06:48.757000Z",
     "start_time": "2019-01-04T15:06:48.748000Z"
    },
    "collapsed": true,
    "id": "iT1Hik8-rU9X"
   },
   "outputs": [],
   "source": [
    "x[0] = \"one\""
   ]
  },
  {
   "cell_type": "code",
   "execution_count": null,
   "metadata": {
    "ExecuteTime": {
     "end_time": "2019-01-04T15:07:06.582000Z",
     "start_time": "2019-01-04T15:07:06.557000Z"
    },
    "id": "If4lbEStrU9Y",
    "outputId": "26de59ff-ef55-4991-b370-c828785a3391"
   },
   "outputs": [
    {
     "name": "stdout",
     "output_type": "stream",
     "text": [
      "['one', 2, 3, 4]\n",
      "['one', 2, 3, 4]\n"
     ]
    }
   ],
   "source": [
    "print(x)\n",
    "print(y)"
   ]
  },
  {
   "cell_type": "code",
   "execution_count": null,
   "metadata": {
    "ExecuteTime": {
     "end_time": "2018-08-24T09:37:21.124000Z",
     "start_time": "2018-08-24T09:37:21.120000Z"
    },
    "collapsed": true,
    "id": "4jKX2wtrrU9Y"
   },
   "outputs": [],
   "source": [
    "l = [[1,2], [3, 4]]"
   ]
  },
  {
   "cell_type": "code",
   "execution_count": null,
   "metadata": {
    "ExecuteTime": {
     "end_time": "2018-08-24T09:37:45.387000Z",
     "start_time": "2018-08-24T09:37:45.379000Z"
    },
    "id": "P795Knl9rU9Y",
    "outputId": "9e07ddf3-35f5-42b3-e636-a2c6d89de983"
   },
   "outputs": [
    {
     "data": {
      "text/plain": [
       "3"
      ]
     },
     "execution_count": 33,
     "metadata": {},
     "output_type": "execute_result"
    }
   ],
   "source": [
    "l[1][0]"
   ]
  },
  {
   "cell_type": "code",
   "execution_count": null,
   "metadata": {
    "ExecuteTime": {
     "end_time": "2018-08-24T09:39:19.934000Z",
     "start_time": "2018-08-24T09:39:19.926000Z"
    },
    "id": "YGxoov-NrU9Y",
    "outputId": "13d69f31-b5af-490b-f8c1-5ff2228007d4"
   },
   "outputs": [
    {
     "data": {
      "text/plain": [
       "15"
      ]
     },
     "execution_count": 36,
     "metadata": {},
     "output_type": "execute_result"
    }
   ],
   "source": [
    "l = [1,2,3,4,5]\n",
    "\n",
    "sum(l)"
   ]
  },
  {
   "cell_type": "code",
   "execution_count": null,
   "metadata": {
    "ExecuteTime": {
     "end_time": "2019-01-04T15:15:51.831000Z",
     "start_time": "2019-01-04T15:15:51.823000Z"
    },
    "collapsed": true,
    "id": "1Hy9PsuHrU9Z"
   },
   "outputs": [],
   "source": [
    "def add(x=0, y=0, z=0):\n",
    "    return x + y + z"
   ]
  },
  {
   "cell_type": "code",
   "execution_count": null,
   "metadata": {
    "ExecuteTime": {
     "end_time": "2019-01-04T15:16:05.593000Z",
     "start_time": "2019-01-04T15:16:05.583000Z"
    },
    "id": "HRmYbQgirU9Z",
    "outputId": "0bb05624-d978-4e37-f508-3ba626c56b82"
   },
   "outputs": [
    {
     "data": {
      "text/plain": [
       "0"
      ]
     },
     "execution_count": 20,
     "metadata": {},
     "output_type": "execute_result"
    }
   ],
   "source": [
    "add()"
   ]
  },
  {
   "cell_type": "code",
   "execution_count": null,
   "metadata": {
    "ExecuteTime": {
     "end_time": "2019-01-04T15:12:06.696000Z",
     "start_time": "2019-01-04T15:12:06.690000Z"
    },
    "collapsed": true,
    "id": "H_H4Eh0vrU9Z"
   },
   "outputs": [],
   "source": [
    "def better_add(*args):\n",
    "    for i in args:\n",
    "        print i"
   ]
  },
  {
   "cell_type": "code",
   "execution_count": null,
   "metadata": {
    "ExecuteTime": {
     "end_time": "2019-01-04T15:12:10.623000Z",
     "start_time": "2019-01-04T15:12:10.610000Z"
    },
    "id": "Tr_n2S6arU9Z",
    "outputId": "0e5302d7-57f8-4047-c363-b19287b2d81e"
   },
   "outputs": [
    {
     "name": "stdout",
     "output_type": "stream",
     "text": [
      "1\n",
      "2\n",
      "3\n",
      "4\n",
      "5\n",
      "6\n",
      "7\n",
      "8\n",
      "9\n"
     ]
    }
   ],
   "source": [
    "better_add(1,2,3,4,5,6,7,8,9)"
   ]
  },
  {
   "cell_type": "code",
   "execution_count": null,
   "metadata": {
    "ExecuteTime": {
     "end_time": "2019-01-04T15:12:45.605000Z",
     "start_time": "2019-01-04T15:12:45.596000Z"
    },
    "collapsed": true,
    "id": "f_HNWaXWrU9a"
   },
   "outputs": [],
   "source": [
    "def better_add(*args):\n",
    "    output = 0\n",
    "    for i in args:\n",
    "        output += i\n",
    "    return output"
   ]
  },
  {
   "cell_type": "code",
   "execution_count": null,
   "metadata": {
    "ExecuteTime": {
     "end_time": "2019-01-04T15:13:09.618000Z",
     "start_time": "2019-01-04T15:13:09.609000Z"
    },
    "id": "09sK35VkrU9a",
    "outputId": "ad6a397e-7c2e-495b-b22a-b9599a3fb96b"
   },
   "outputs": [
    {
     "data": {
      "text/plain": [
       "160"
      ]
     },
     "execution_count": 11,
     "metadata": {},
     "output_type": "execute_result"
    }
   ],
   "source": [
    "better_add(1,2,3,4,8,9,10,11,12,25,13,55,7)"
   ]
  },
  {
   "cell_type": "code",
   "execution_count": null,
   "metadata": {
    "collapsed": true,
    "id": "lZbKkcharU9a"
   },
   "outputs": [],
   "source": [
    "map()\n",
    "filter()\n",
    "reduce()"
   ]
  },
  {
   "cell_type": "code",
   "execution_count": null,
   "metadata": {
    "ExecuteTime": {
     "end_time": "2019-01-04T15:36:17.185000Z",
     "start_time": "2019-01-04T15:36:17.174000Z"
    },
    "id": "o_COcom4rU9a",
    "outputId": "69856c6f-5b61-411f-8336-32dcf36c8b06"
   },
   "outputs": [
    {
     "name": "stdout",
     "output_type": "stream",
     "text": [
      "[1, 4, 9, 16, 25]\n",
      "[1, 4, 9, 16, 25]\n"
     ]
    }
   ],
   "source": [
    "l = [1,2,3,4,5]\n",
    "\n",
    "def f(x):\n",
    "    return x**2\n",
    "\n",
    "print([f(i) for i in l])\n",
    "\n",
    "print(map(f, [i for i in range(1, 6)]))"
   ]
  },
  {
   "cell_type": "code",
   "execution_count": null,
   "metadata": {
    "ExecuteTime": {
     "end_time": "2018-08-24T09:51:16.446000Z",
     "start_time": "2018-08-24T09:51:16.438000Z"
    },
    "id": "pNXPMmZErU9a",
    "outputId": "98bb4d2a-a081-456e-e8f7-238c54ca9912"
   },
   "outputs": [
    {
     "data": {
      "text/plain": [
       "[2, 4]"
      ]
     },
     "execution_count": 52,
     "metadata": {},
     "output_type": "execute_result"
    }
   ],
   "source": [
    "filter(lambda x: x % 2 == 0, l)"
   ]
  },
  {
   "cell_type": "code",
   "execution_count": null,
   "metadata": {
    "collapsed": true,
    "id": "sie3MHqnrU9b"
   },
   "outputs": [],
   "source": []
  },
  {
   "cell_type": "code",
   "execution_count": null,
   "metadata": {
    "ExecuteTime": {
     "end_time": "2019-01-04T15:42:46.152000Z",
     "start_time": "2019-01-04T15:42:46.142000Z"
    },
    "id": "UHAdPyjXrU9b",
    "outputId": "43b137b7-90e6-4549-fc25-0e8b9b468f73"
   },
   "outputs": [
    {
     "data": {
      "text/plain": [
       "15"
      ]
     },
     "execution_count": 24,
     "metadata": {},
     "output_type": "execute_result"
    }
   ],
   "source": [
    "def addition(iterable):\n",
    "    return reduce(lambda x, y: x + y, iterable)\n",
    "\n",
    "addition(l)"
   ]
  },
  {
   "cell_type": "code",
   "execution_count": null,
   "metadata": {
    "ExecuteTime": {
     "end_time": "2018-08-24T09:58:10.323000Z",
     "start_time": "2018-08-24T09:58:10.315000Z"
    },
    "id": "TLxURHQirU9b",
    "outputId": "50b4e62b-811f-4675-810d-ffa5b3033e92"
   },
   "outputs": [
    {
     "data": {
      "text/plain": [
       "['The', 'quick', 'brown', 'fox', 'jumped', 'over', 'the', 'lazy', 'dogs']"
      ]
     },
     "execution_count": 54,
     "metadata": {},
     "output_type": "execute_result"
    }
   ],
   "source": [
    "s = \"The quick brown fox jumped over the lazy dogs\".split()\n",
    "s"
   ]
  },
  {
   "cell_type": "code",
   "execution_count": null,
   "metadata": {
    "ExecuteTime": {
     "end_time": "2018-08-24T09:59:16.049000Z",
     "start_time": "2018-08-24T09:59:16.041000Z"
    },
    "id": "JOu5r7YErU9c",
    "outputId": "5f810be9-6277-46f9-fe03-f9aa94d88f0d"
   },
   "outputs": [
    {
     "data": {
      "text/plain": [
       "'The quick  brown  fox  jumped  over  the  lazy  dogs '"
      ]
     },
     "execution_count": 55,
     "metadata": {},
     "output_type": "execute_result"
    }
   ],
   "source": [
    "reduce(lambda x, y: x + \" \" + y + \" \", s)"
   ]
  },
  {
   "cell_type": "code",
   "execution_count": null,
   "metadata": {
    "ExecuteTime": {
     "end_time": "2018-08-24T10:08:38.785000Z",
     "start_time": "2018-08-24T10:08:38.781000Z"
    },
    "collapsed": true,
    "id": "08O7KvQQrU9c"
   },
   "outputs": [],
   "source": [
    "# Revisit this later\n",
    "\n",
    "def ex_func(**kwargs):\n",
    "    for i in kwargs.items():\n",
    "        print i"
   ]
  },
  {
   "cell_type": "code",
   "execution_count": null,
   "metadata": {
    "ExecuteTime": {
     "end_time": "2018-08-24T10:08:40.047000Z",
     "start_time": "2018-08-24T10:08:40.039000Z"
    },
    "id": "cDF8bRO3rU9d",
    "outputId": "dc99316a-5362-4b9b-8814-d19627e587cb"
   },
   "outputs": [
    {
     "name": "stdout",
     "output_type": "stream",
     "text": [
      "('grape', 'Green')\n",
      "('apple', 'Red')\n"
     ]
    }
   ],
   "source": [
    "ex_func(apple = \"Red\", grape = \"Green\")"
   ]
  },
  {
   "cell_type": "code",
   "execution_count": null,
   "metadata": {
    "ExecuteTime": {
     "end_time": "2018-05-25T13:29:46.967000Z",
     "start_time": "2018-05-25T13:29:46.962000Z"
    },
    "collapsed": true,
    "id": "T4L8OjqmrU9d"
   },
   "outputs": [],
   "source": [
    "def example_function(x, y):\n",
    "    return x * y"
   ]
  },
  {
   "cell_type": "code",
   "execution_count": null,
   "metadata": {
    "collapsed": true,
    "id": "e6bhcW-rrU9d"
   },
   "outputs": [],
   "source": [
    "def square(x):\n",
    "    return x**2"
   ]
  },
  {
   "cell_type": "code",
   "execution_count": null,
   "metadata": {
    "ExecuteTime": {
     "end_time": "2018-08-08T10:10:35.913000Z",
     "start_time": "2018-08-08T10:10:35.901000Z"
    },
    "id": "sSuts-jkrU9d",
    "outputId": "7935d4f6-55d2-43a3-d0dc-4da672dd3b85"
   },
   "outputs": [
    {
     "name": "stdout",
     "output_type": "stream",
     "text": [
      "[4]\n",
      "10\n"
     ]
    }
   ],
   "source": [
    "from itertools import reduce\n",
    "\n",
    "l = [i for i in range(5)]\n",
    "\n",
    "m = map(lambda x: x**2, l)\n",
    "\n",
    "r = reduce(lambda x, y: x + y, l)\n",
    "\n",
    "print(m)\n",
    "print(r)"
   ]
  },
  {
   "cell_type": "code",
   "execution_count": null,
   "metadata": {
    "ExecuteTime": {
     "end_time": "2018-08-08T10:14:41.848000Z",
     "start_time": "2018-08-08T10:14:41.840000Z"
    },
    "collapsed": true,
    "id": "g88UeV_TrU9e"
   },
   "outputs": [],
   "source": [
    "def our_sum(iterable):\n",
    "    return reduce(lambda x, y: x + y, iterable)"
   ]
  },
  {
   "cell_type": "code",
   "execution_count": null,
   "metadata": {
    "ExecuteTime": {
     "end_time": "2018-08-08T10:15:16.718000Z",
     "start_time": "2018-08-08T10:15:16.714000Z"
    },
    "id": "KLz1tsHdrU9e",
    "outputId": "4dbf361a-718d-4d6d-f163-efeccc04bea4"
   },
   "outputs": [
    {
     "name": "stdout",
     "output_type": "stream",
     "text": [
      "15\n"
     ]
    }
   ],
   "source": [
    "l = [1,2,3,4,5]\n",
    "print our_sum(l)"
   ]
  },
  {
   "cell_type": "markdown",
   "metadata": {
    "id": "GrQoYJecrU9e"
   },
   "source": [
    "## Modules and Packages"
   ]
  },
  {
   "cell_type": "code",
   "execution_count": null,
   "metadata": {
    "ExecuteTime": {
     "end_time": "2019-01-04T15:49:06.008000Z",
     "start_time": "2019-01-04T15:49:05.998000Z"
    },
    "id": "E-cOjKP1rU9e",
    "outputId": "1336948f-2b27-43e0-e1b3-a5bf76e6c86e"
   },
   "outputs": [
    {
     "name": "stdout",
     "output_type": "stream",
     "text": [
      "0.14112000806\n"
     ]
    }
   ],
   "source": [
    "import math\n",
    "\n",
    "y = math.sin(3.0)\n",
    "print(y)"
   ]
  },
  {
   "cell_type": "code",
   "execution_count": null,
   "metadata": {
    "ExecuteTime": {
     "end_time": "2019-01-04T15:50:00.068000Z",
     "start_time": "2019-01-04T15:50:00.060000Z"
    },
    "id": "BPLXRZn4rU9f",
    "outputId": "eaa52d6e-d514-437f-fa43-5e4539bd3407"
   },
   "outputs": [
    {
     "name": "stdout",
     "output_type": "stream",
     "text": [
      "0.14112000806\n"
     ]
    }
   ],
   "source": [
    "from math import *\n",
    "\n",
    "y = sin(3.0)\n",
    "print(y)"
   ]
  },
  {
   "cell_type": "code",
   "execution_count": null,
   "metadata": {
    "ExecuteTime": {
     "end_time": "2019-01-04T15:50:52.303000Z",
     "start_time": "2019-01-04T15:50:52.271000Z"
    },
    "id": "WPJKBBSHrU9f",
    "outputId": "d9e37e20-68fb-47e0-a38c-fcc7d91a6737"
   },
   "outputs": [
    {
     "name": "stdout",
     "output_type": "stream",
     "text": [
      "-2.44929359829e-16\n",
      "1.0\n"
     ]
    }
   ],
   "source": [
    "from math import sin, cos, pi\n",
    "\n",
    "y = sin(2*pi)\n",
    "z = cos(2*pi)\n",
    "print(y)\n",
    "print(z)"
   ]
  },
  {
   "cell_type": "code",
   "execution_count": null,
   "metadata": {
    "ExecuteTime": {
     "end_time": "2019-01-04T15:51:45.308000Z",
     "start_time": "2019-01-04T15:51:45.297000Z"
    },
    "id": "tX-6pdw0rU9f",
    "outputId": "8ce7f292-3598-41e3-ca24-31a282a9cefe"
   },
   "outputs": [
    {
     "name": "stdout",
     "output_type": "stream",
     "text": [
      "0.14112000806\n"
     ]
    }
   ],
   "source": [
    "import math as m\n",
    "\n",
    "y = m.sin(3.0)\n",
    "print(y)"
   ]
  },
  {
   "cell_type": "code",
   "execution_count": null,
   "metadata": {
    "collapsed": true,
    "id": "a-wiwZ-CrU9f"
   },
   "outputs": [],
   "source": [
    "import numpy as np\n",
    "import pandas as pd\n",
    "import matplotlib.pyplot as plt\n",
    "import seaborn as sb #also seen sn, or sns\n",
    "import tensorflow as tf"
   ]
  },
  {
   "cell_type": "code",
   "execution_count": null,
   "metadata": {
    "collapsed": true,
    "id": "yxxOTUALrU9g"
   },
   "outputs": [],
   "source": [
    "np.matmul(A, B)\n",
    "tf.matmul(A, B)"
   ]
  },
  {
   "cell_type": "code",
   "execution_count": null,
   "metadata": {
    "ExecuteTime": {
     "end_time": "2018-08-08T10:21:11.439000Z",
     "start_time": "2018-08-08T10:21:11.431000Z"
    },
    "id": "A06xMyJ6rU9g",
    "outputId": "62dd1dde-92a3-41a8-ff80-27a8f9a48d6b"
   },
   "outputs": [
    {
     "data": {
      "text/plain": [
       "[(1, 4), (2, 5), (3, 6)]"
      ]
     },
     "execution_count": 71,
     "metadata": {},
     "output_type": "execute_result"
    }
   ],
   "source": [
    "l1 = [1,2,3]\n",
    "l2 = [4,5,6]\n",
    "\n",
    "zip(l1, l2)"
   ]
  },
  {
   "cell_type": "code",
   "execution_count": null,
   "metadata": {
    "ExecuteTime": {
     "end_time": "2018-08-08T10:22:42.039000Z",
     "start_time": "2018-08-08T10:22:42.031000Z"
    },
    "id": "yLLHRbZSrU9g",
    "outputId": "5c0dcb56-f291-45bd-80e2-cc8d16a80496"
   },
   "outputs": [
    {
     "data": {
      "text/plain": [
       "[(1, 4, 7), (2, 5, 8), (3, 6, 9), (4, 7, 10)]"
      ]
     },
     "execution_count": 73,
     "metadata": {},
     "output_type": "execute_result"
    }
   ],
   "source": [
    "l1 = [1,2,3,4,5,6]\n",
    "l2 = [4,5,6,7,8]\n",
    "l3 = [7,8,9,10]\n",
    "\n",
    "zip(l1, l2, l3)"
   ]
  },
  {
   "cell_type": "code",
   "execution_count": null,
   "metadata": {
    "ExecuteTime": {
     "end_time": "2018-08-08T10:23:00.146000Z",
     "start_time": "2018-08-08T10:23:00.142000Z"
    },
    "id": "Z1hMO9bXrU9g",
    "outputId": "9a0ad8a1-4c6a-4ee2-9e94-57429364575e"
   },
   "outputs": [
    {
     "data": {
      "text/plain": [
       "[(1, 2), (2, 3), (3, 4), (4, 5), (5, 6)]"
      ]
     },
     "execution_count": 74,
     "metadata": {},
     "output_type": "execute_result"
    }
   ],
   "source": [
    "zip(l1, l1[1:])"
   ]
  },
  {
   "cell_type": "code",
   "execution_count": null,
   "metadata": {
    "ExecuteTime": {
     "end_time": "2018-08-08T10:25:13.593000Z",
     "start_time": "2018-08-08T10:25:13.585000Z"
    },
    "id": "7gN3UZIWrU9h",
    "outputId": "945bce70-1b0f-4b0d-df74-b606c0e853bb"
   },
   "outputs": [
    {
     "name": "stdout",
     "output_type": "stream",
     "text": [
      "1\n",
      "2\n",
      "2\n",
      "3\n",
      "3\n",
      "4\n",
      "4\n",
      "5\n",
      "5\n",
      "6\n"
     ]
    }
   ],
   "source": [
    "for i, j in zip(l1, l1[1:]):\n",
    "    print i\n",
    "    print j"
   ]
  },
  {
   "cell_type": "code",
   "execution_count": null,
   "metadata": {
    "ExecuteTime": {
     "end_time": "2018-08-08T10:26:54.205000Z",
     "start_time": "2018-08-08T10:26:54.201000Z"
    },
    "id": "WvKj4KqHrU9h",
    "outputId": "6735278f-fd99-49d9-a56c-af696507a5be"
   },
   "outputs": [
    {
     "name": "stdout",
     "output_type": "stream",
     "text": [
      "1\n",
      "2\n"
     ]
    }
   ],
   "source": [
    "x, y = zip(l1, l1[1:])[0]\n",
    "print x\n",
    "print y"
   ]
  },
  {
   "cell_type": "code",
   "execution_count": null,
   "metadata": {
    "ExecuteTime": {
     "end_time": "2018-08-08T10:27:50.980000Z",
     "start_time": "2018-08-08T10:27:50.976000Z"
    },
    "collapsed": true,
    "id": "8a_vSzekrU9h"
   },
   "outputs": [],
   "source": [
    "def split_tuple(t):\n",
    "    return t[0], t[1], t[2]"
   ]
  },
  {
   "cell_type": "code",
   "execution_count": null,
   "metadata": {
    "ExecuteTime": {
     "end_time": "2018-08-08T10:29:46.605000Z",
     "start_time": "2018-08-08T10:29:46.597000Z"
    },
    "id": "ejYeBzdVrU9i",
    "outputId": "a96b064b-2066-408c-9136-bb4fad586907"
   },
   "outputs": [
    {
     "name": "stdout",
     "output_type": "stream",
     "text": [
      "2\n",
      "3\n"
     ]
    }
   ],
   "source": [
    "x, y = split_tuple((2, 3, 4))\n",
    "print x\n",
    "print y"
   ]
  },
  {
   "cell_type": "code",
   "execution_count": null,
   "metadata": {
    "ExecuteTime": {
     "end_time": "2018-08-08T10:37:34.986000Z",
     "start_time": "2018-08-08T10:37:34.974000Z"
    },
    "id": "xAk-03-GrU9i",
    "outputId": "52ad8b8e-135c-4afe-ef34-cdb36a74ce53"
   },
   "outputs": [
    {
     "data": {
      "text/plain": [
       "'A string'"
      ]
     },
     "execution_count": 87,
     "metadata": {},
     "output_type": "execute_result"
    }
   ],
   "source": [
    "x = \"A\"\n",
    "x += \" \"\n",
    "x += \"string\"\n",
    "x"
   ]
  },
  {
   "cell_type": "code",
   "execution_count": null,
   "metadata": {
    "collapsed": true,
    "id": "nx9voas3rU9i"
   },
   "outputs": [],
   "source": [
    "x = 5\n",
    "\n",
    "x = x + 1\n",
    "\n",
    "x += 1\n",
    "x -= 1\n",
    "x *= 1\n",
    "x /= 1"
   ]
  },
  {
   "cell_type": "code",
   "execution_count": null,
   "metadata": {
    "ExecuteTime": {
     "end_time": "2018-08-08T10:47:42.644000Z",
     "start_time": "2018-08-08T10:47:42.640000Z"
    },
    "id": "JdtBKo37rU9i",
    "outputId": "dd56db73-c185-4823-89bf-f355d9e20349"
   },
   "outputs": [
    {
     "name": "stdout",
     "output_type": "stream",
     "text": [
      "Here we want red. Here we want blue. And here we want red again\n"
     ]
    }
   ],
   "source": [
    "print \"Here we want {x}. Here we want {y}. And here we want {x} again\".format(x = \"red\", y = \"blue\")"
   ]
  },
  {
   "cell_type": "code",
   "execution_count": null,
   "metadata": {
    "collapsed": true,
    "id": "UYOVV6hOrU9j"
   },
   "outputs": [],
   "source": [
    "camelCase\n",
    "\n",
    "multiWordVar\n",
    "\n",
    "multi_word_var"
   ]
  },
  {
   "cell_type": "markdown",
   "metadata": {
    "id": "Qh225cxHrU9j"
   },
   "source": [
    "### Classes"
   ]
  },
  {
   "cell_type": "code",
   "execution_count": null,
   "metadata": {
    "ExecuteTime": {
     "end_time": "2018-05-24T13:33:30.423000Z",
     "start_time": "2018-05-24T13:33:30.415000Z"
    },
    "collapsed": true,
    "id": "2XIf7T00rU9j"
   },
   "outputs": [],
   "source": [
    "class ClassName():\n",
    "    \n",
    "    def __init__(self):     # define methods __init__() initializes\n",
    "        pass                # an instance of the object class"
   ]
  },
  {
   "cell_type": "code",
   "execution_count": null,
   "metadata": {
    "ExecuteTime": {
     "end_time": "2019-01-04T16:23:41.533000Z",
     "start_time": "2019-01-04T16:23:41.518000Z"
    },
    "collapsed": true,
    "id": "XDv8t_uKrU9j"
   },
   "outputs": [],
   "source": [
    "class Dog():\n",
    "    \n",
    "    def __init__(self, name, breed, age):\n",
    "        self.name = name\n",
    "        self.breed = breed\n",
    "        self.age = age\n",
    "        \n",
    "    def __str__(self):\n",
    "        message = \"Hi! I'm a dog!\\n\"\n",
    "        message += \"My name is {}!\\n\".format(self.name)\n",
    "        message += \"My breed is {}!\\n\".format(self.breed)\n",
    "        message += \"I'm {} years old!\\n\".format(self.age)\n",
    "        \n",
    "        return message\n",
    "        \n",
    "    def speak(self):\n",
    "        print(\"Woof!\")\n",
    "    \n",
    "    def eat(self):\n",
    "        print(\"Om nom nom\")\n",
    "        "
   ]
  },
  {
   "cell_type": "code",
   "execution_count": null,
   "metadata": {
    "ExecuteTime": {
     "end_time": "2019-01-04T16:24:22.186000Z",
     "start_time": "2019-01-04T16:24:22.181000Z"
    },
    "collapsed": true,
    "id": "YLVMucxRrU9j"
   },
   "outputs": [],
   "source": [
    "dog = Dog(name = \"Fido\", breed = \"Were Chihuahua\", age = 3)"
   ]
  },
  {
   "cell_type": "code",
   "execution_count": null,
   "metadata": {
    "ExecuteTime": {
     "end_time": "2019-01-04T16:24:31.627000Z",
     "start_time": "2019-01-04T16:24:31.617000Z"
    },
    "id": "ooQhVdssrU9k",
    "outputId": "6c59b996-94dc-41d2-e8a0-5c24da2cbac2"
   },
   "outputs": [
    {
     "data": {
      "text/plain": [
       "'Fido'"
      ]
     },
     "execution_count": 40,
     "metadata": {},
     "output_type": "execute_result"
    }
   ],
   "source": [
    "dog.name"
   ]
  },
  {
   "cell_type": "code",
   "execution_count": null,
   "metadata": {
    "ExecuteTime": {
     "end_time": "2019-01-04T16:24:36.307000Z",
     "start_time": "2019-01-04T16:24:36.297000Z"
    },
    "id": "5ga1WgK4rU9k",
    "outputId": "b3836107-1469-4275-862c-af9294cae34a"
   },
   "outputs": [
    {
     "data": {
      "text/plain": [
       "'Were Chihuahua'"
      ]
     },
     "execution_count": 41,
     "metadata": {},
     "output_type": "execute_result"
    }
   ],
   "source": [
    "dog.breed"
   ]
  },
  {
   "cell_type": "code",
   "execution_count": null,
   "metadata": {
    "ExecuteTime": {
     "end_time": "2019-01-04T16:26:18.884000Z",
     "start_time": "2019-01-04T16:26:18.872000Z"
    },
    "id": "qDLCZFrErU9k",
    "outputId": "4fc2196e-650e-4a8f-d9ce-945db222369c"
   },
   "outputs": [
    {
     "data": {
      "text/plain": [
       "\"Hi! I'm a dog!\\nMy name is Fido!\\nMy breed is Were Chihuahua!\\nI'm 3 years old!\\n\""
      ]
     },
     "execution_count": 42,
     "metadata": {},
     "output_type": "execute_result"
    }
   ],
   "source": [
    "dog.__str__()"
   ]
  },
  {
   "cell_type": "code",
   "execution_count": null,
   "metadata": {
    "ExecuteTime": {
     "end_time": "2019-01-04T16:26:22.080000Z",
     "start_time": "2019-01-04T16:26:22.071000Z"
    },
    "id": "xgfID0QurU9k",
    "outputId": "c5173576-250b-4871-c762-6342e12582c4"
   },
   "outputs": [
    {
     "name": "stdout",
     "output_type": "stream",
     "text": [
      "Hi! I'm a dog!\n",
      "My name is Fido!\n",
      "My breed is Were Chihuahua!\n",
      "I'm 3 years old!\n",
      "\n"
     ]
    }
   ],
   "source": [
    "print(dog)"
   ]
  },
  {
   "cell_type": "code",
   "execution_count": null,
   "metadata": {
    "ExecuteTime": {
     "end_time": "2019-01-04T16:26:41.340000Z",
     "start_time": "2019-01-04T16:26:41.330000Z"
    },
    "id": "SJquo6UIrU9l",
    "outputId": "66154e3b-3131-45b0-ca74-2d9f7c909ad1"
   },
   "outputs": [
    {
     "name": "stdout",
     "output_type": "stream",
     "text": [
      "Woof!\n"
     ]
    }
   ],
   "source": [
    "dog.speak()"
   ]
  },
  {
   "cell_type": "code",
   "execution_count": null,
   "metadata": {
    "ExecuteTime": {
     "end_time": "2019-01-04T16:26:48.708000Z",
     "start_time": "2019-01-04T16:26:48.699000Z"
    },
    "id": "T18d6UInrU9l",
    "outputId": "a12a7cc3-ba73-4afe-8eeb-dbfb334181c5"
   },
   "outputs": [
    {
     "name": "stdout",
     "output_type": "stream",
     "text": [
      "Om nom nom\n"
     ]
    }
   ],
   "source": [
    "dog.eat()"
   ]
  },
  {
   "cell_type": "code",
   "execution_count": null,
   "metadata": {
    "collapsed": true,
    "id": "UJjA5xDNrU9l"
   },
   "outputs": [],
   "source": [
    "class LinearRegression():\n",
    "    \n",
    "    def __init__(self, X, l1 = 0, l2 = 0):\n",
    "        self.N = X.shape[0]\n",
    "        self.w = np.random.randn(X.shape[1]+1)\n",
    "        pass\n",
    "    \n",
    "    def __str__(self):\n",
    "        pass\n",
    "        \n",
    "    def fit(self, X, y):\n",
    "        pass\n",
    "    \n",
    "    def predict(self, X):\n",
    "        pass\n",
    "        "
   ]
  },
  {
   "cell_type": "code",
   "execution_count": null,
   "metadata": {
    "collapsed": true,
    "id": "UN4ddHTdrU9l"
   },
   "outputs": [],
   "source": [
    "__init__.py\n",
    "LinearRegression.py\n",
    "my_function.py"
   ]
  },
  {
   "cell_type": "markdown",
   "metadata": {
    "id": "NO3qMNXBrU9l"
   },
   "source": [
    "## Advanced Topics\n",
    "\n",
    "### \"Dunder\" Variables\n",
    "\n",
    "### The itertools Package\n",
    "\n",
    "### The datetime Package\n",
    "\n",
    "### The os Package"
   ]
  },
  {
   "cell_type": "code",
   "execution_count": null,
   "metadata": {
    "ExecuteTime": {
     "end_time": "2018-08-24T11:00:07.684000Z",
     "start_time": "2018-08-24T11:00:07.672000Z"
    },
    "id": "MFybOCf_rU9m",
    "outputId": "c8a0a091-74c9-4d65-a256-4ebf9fb25dda"
   },
   "outputs": [
    {
     "name": "stdout",
     "output_type": "stream",
     "text": [
      "['__doc__', '__name__', '__package__', 'chain', 'combinations', 'combinations_with_replacement', 'compress', 'count', 'cycle', 'dropwhile', 'groupby', 'ifilter', 'ifilterfalse', 'imap', 'islice', 'izip', 'izip_longest', 'permutations', 'product', 'repeat', 'starmap', 'takewhile', 'tee']\n"
     ]
    }
   ],
   "source": [
    "import itertools\n",
    "\n",
    "print(dir(itertools))"
   ]
  },
  {
   "cell_type": "code",
   "execution_count": null,
   "metadata": {
    "ExecuteTime": {
     "end_time": "2018-08-24T11:02:08.231000Z",
     "start_time": "2018-08-24T11:02:08.219000Z"
    },
    "id": "DOJ912AerU9m",
    "outputId": "cd6c0aa5-7399-4077-8b65-afeb680f88f9"
   },
   "outputs": [
    {
     "data": {
      "text/plain": [
       "[(0, 'a'), (1, 'b'), (2, 'c'), (3, 'd')]"
      ]
     },
     "execution_count": 81,
     "metadata": {},
     "output_type": "execute_result"
    }
   ],
   "source": [
    "l = [\"a\", \"b\", \"c\", \"d\"]\n",
    "[i for i in enumerate(l)]"
   ]
  },
  {
   "cell_type": "code",
   "execution_count": null,
   "metadata": {
    "ExecuteTime": {
     "end_time": "2019-01-04T16:44:45.865000Z",
     "start_time": "2019-01-04T16:44:45.841000Z"
    },
    "id": "c2XKsZ9JrU9m",
    "outputId": "e42bf541-e45f-40d2-98f3-c0c04c039541"
   },
   "outputs": [
    {
     "ename": "NameError",
     "evalue": "name 'datetime' is not defined",
     "output_type": "error",
     "traceback": [
      "\u001b[1;31m---------------------------------------------------------------------------\u001b[0m",
      "\u001b[1;31mNameError\u001b[0m                                 Traceback (most recent call last)",
      "\u001b[1;32m<ipython-input-47-16a8db55e36a>\u001b[0m in \u001b[0;36m<module>\u001b[1;34m()\u001b[0m\n\u001b[0;32m      1\u001b[0m \u001b[1;32mimport\u001b[0m \u001b[0mdatetime\u001b[0m \u001b[1;32mas\u001b[0m \u001b[0mdt\u001b[0m\u001b[1;33m\u001b[0m\u001b[0m\n\u001b[0;32m      2\u001b[0m \u001b[1;33m\u001b[0m\u001b[0m\n\u001b[1;32m----> 3\u001b[1;33m \u001b[1;32mprint\u001b[0m\u001b[1;33m(\u001b[0m\u001b[0mdir\u001b[0m\u001b[1;33m(\u001b[0m\u001b[0mdatetime\u001b[0m\u001b[1;33m)\u001b[0m\u001b[1;33m)\u001b[0m\u001b[1;33m\u001b[0m\u001b[0m\n\u001b[0m",
      "\u001b[1;31mNameError\u001b[0m: name 'datetime' is not defined"
     ]
    }
   ],
   "source": [
    "import datetime as dt\n",
    "\n",
    "print(dir(datetime))"
   ]
  },
  {
   "cell_type": "code",
   "execution_count": null,
   "metadata": {
    "ExecuteTime": {
     "end_time": "2018-08-24T11:05:19.775000Z",
     "start_time": "2018-08-24T11:05:19.761000Z"
    },
    "id": "t56feROrrU9m",
    "outputId": "d83657c1-80b4-4912-8e1b-45936762145a"
   },
   "outputs": [
    {
     "name": "stdout",
     "output_type": "stream",
     "text": [
      "2018-08-24\n"
     ]
    }
   ],
   "source": [
    "print dt.date(2018, 8, 24)"
   ]
  },
  {
   "cell_type": "code",
   "execution_count": null,
   "metadata": {
    "ExecuteTime": {
     "end_time": "2018-08-24T11:07:35.060000Z",
     "start_time": "2018-08-24T11:07:35.046000Z"
    },
    "id": "CgC3yjiXrU9n",
    "outputId": "f3644ed0-52ae-431f-a3b2-ad5a677552b3"
   },
   "outputs": [
    {
     "name": "stdout",
     "output_type": "stream",
     "text": [
      "12:07:00.000173\n"
     ]
    }
   ],
   "source": [
    "print dt.time(12, 7, 0, 173)"
   ]
  },
  {
   "cell_type": "code",
   "execution_count": null,
   "metadata": {
    "ExecuteTime": {
     "end_time": "2019-01-04T16:44:31.368000Z",
     "start_time": "2019-01-04T16:44:31.340000Z"
    },
    "id": "GEvJF_hMrU9n",
    "outputId": "25a419ea-c70a-47bd-8873-ace0d7c408f4"
   },
   "outputs": [
    {
     "ename": "NameError",
     "evalue": "name 'dt' is not defined",
     "output_type": "error",
     "traceback": [
      "\u001b[1;31m---------------------------------------------------------------------------\u001b[0m",
      "\u001b[1;31mNameError\u001b[0m                                 Traceback (most recent call last)",
      "\u001b[1;32m<ipython-input-46-133189b62631>\u001b[0m in \u001b[0;36m<module>\u001b[1;34m()\u001b[0m\n\u001b[1;32m----> 1\u001b[1;33m \u001b[1;32mprint\u001b[0m \u001b[0mdt\u001b[0m\u001b[1;33m.\u001b[0m\u001b[0mdatetime\u001b[0m\u001b[1;33m(\u001b[0m\u001b[1;36m2018\u001b[0m\u001b[1;33m,\u001b[0m \u001b[1;36m8\u001b[0m\u001b[1;33m,\u001b[0m \u001b[1;36m24\u001b[0m\u001b[1;33m,\u001b[0m \u001b[1;36m12\u001b[0m\u001b[1;33m,\u001b[0m \u001b[1;36m8\u001b[0m\u001b[1;33m,\u001b[0m \u001b[1;36m0\u001b[0m\u001b[1;33m,\u001b[0m \u001b[1;36m173\u001b[0m\u001b[1;33m)\u001b[0m\u001b[1;33m\u001b[0m\u001b[0m\n\u001b[0m\u001b[0;32m      2\u001b[0m \u001b[0mdate_var\u001b[0m \u001b[1;33m=\u001b[0m \u001b[0mdt\u001b[0m\u001b[1;33m.\u001b[0m\u001b[0mdatetime\u001b[0m\u001b[1;33m(\u001b[0m\u001b[1;36m2018\u001b[0m\u001b[1;33m,\u001b[0m \u001b[1;36m8\u001b[0m\u001b[1;33m,\u001b[0m \u001b[1;36m24\u001b[0m\u001b[1;33m,\u001b[0m \u001b[1;36m12\u001b[0m\u001b[1;33m,\u001b[0m \u001b[1;36m8\u001b[0m\u001b[1;33m,\u001b[0m \u001b[1;36m0\u001b[0m\u001b[1;33m,\u001b[0m \u001b[1;36m173\u001b[0m\u001b[1;33m)\u001b[0m\u001b[1;33m\u001b[0m\u001b[0m\n",
      "\u001b[1;31mNameError\u001b[0m: name 'dt' is not defined"
     ]
    }
   ],
   "source": [
    "print dt.datetime(2018, 8, 24, 12, 8, 0, 173)\n",
    "date_var = dt.datetime(2018, 8, 24, 12, 8, 0, 173)"
   ]
  },
  {
   "cell_type": "code",
   "execution_count": null,
   "metadata": {
    "ExecuteTime": {
     "end_time": "2018-08-24T11:22:01.105000Z",
     "start_time": "2018-08-24T11:22:01.099000Z"
    },
    "collapsed": true,
    "id": "xP7OvpuFrU9n"
   },
   "outputs": [],
   "source": [
    "import time\n",
    "\n",
    "#time_string = \"2018-08-24 12:08:00\"\n",
    "\n",
    "#time.strptime(time_string, \"%Y-%m-%d %H:%M:%S\")\n",
    "\n",
    "time_string = \"August 8, 2018\"\n",
    "\n",
    "t = time.strptime(time_string, \"%B %d, %Y\")"
   ]
  },
  {
   "cell_type": "code",
   "execution_count": null,
   "metadata": {
    "ExecuteTime": {
     "end_time": "2018-08-24T11:25:54.888000Z",
     "start_time": "2018-08-24T11:25:54.867000Z"
    },
    "id": "mbQKGkfjrU9n",
    "outputId": "960cfb8e-0f3f-4ceb-e1e7-abb04d59f518"
   },
   "outputs": [
    {
     "ename": "TypeError",
     "evalue": "a float is required",
     "output_type": "error",
     "traceback": [
      "\u001b[1;31m---------------------------------------------------------------------------\u001b[0m",
      "\u001b[1;31mTypeError\u001b[0m                                 Traceback (most recent call last)",
      "\u001b[1;32m<ipython-input-104-11e5469f8666>\u001b[0m in \u001b[0;36m<module>\u001b[1;34m()\u001b[0m\n\u001b[1;32m----> 1\u001b[1;33m \u001b[0mtime\u001b[0m\u001b[1;33m.\u001b[0m\u001b[0mstrftime\u001b[0m\u001b[1;33m(\u001b[0m\u001b[1;34m\"%B %d, %Y\"\u001b[0m\u001b[1;33m,\u001b[0m \u001b[0mtime\u001b[0m\u001b[1;33m.\u001b[0m\u001b[0mgmtime\u001b[0m\u001b[1;33m(\u001b[0m\u001b[0mt\u001b[0m\u001b[1;33m)\u001b[0m\u001b[1;33m)\u001b[0m\u001b[1;33m\u001b[0m\u001b[0m\n\u001b[0m",
      "\u001b[1;31mTypeError\u001b[0m: a float is required"
     ]
    }
   ],
   "source": [
    "time.strftime(\"%B %d, %Y\", time.gmtime(t))"
   ]
  },
  {
   "cell_type": "code",
   "execution_count": null,
   "metadata": {
    "ExecuteTime": {
     "end_time": "2018-08-24T12:28:30.199000Z",
     "start_time": "2018-08-24T12:28:30.188000Z"
    },
    "id": "2VNTOfP6rU9n",
    "outputId": "c2433404-3415-44d1-e52a-559b14189bd0"
   },
   "outputs": [
    {
     "data": {
      "text/plain": [
       "'August 24, 2018'"
      ]
     },
     "execution_count": 107,
     "metadata": {},
     "output_type": "execute_result"
    }
   ],
   "source": [
    "date_var.strftime(\"%B %d, %Y\")"
   ]
  },
  {
   "cell_type": "code",
   "execution_count": null,
   "metadata": {
    "ExecuteTime": {
     "end_time": "2018-08-24T12:30:22.908000Z",
     "start_time": "2018-08-24T12:30:22.901000Z"
    },
    "id": "b_MzEc6PrU9o",
    "outputId": "f33ae400-80bf-43ea-ed8d-5a1a78882225"
   },
   "outputs": [
    {
     "data": {
      "text/plain": [
       "'Friday, August 24, 2018'"
      ]
     },
     "execution_count": 115,
     "metadata": {},
     "output_type": "execute_result"
    }
   ],
   "source": [
    "date_var.strftime(\"%A, %B %d, %Y\")"
   ]
  },
  {
   "cell_type": "code",
   "execution_count": null,
   "metadata": {
    "ExecuteTime": {
     "end_time": "2018-08-24T12:32:15.498000Z",
     "start_time": "2018-08-24T12:32:15.489000Z"
    },
    "id": "9BLMpErArU9o",
    "outputId": "58c7a663-333a-466c-c8f7-66a9db68c0c3"
   },
   "outputs": [
    {
     "name": "stdout",
     "output_type": "stream",
     "text": [
      "2018\n",
      "8\n",
      "24\n",
      "12\n",
      "8\n",
      "0\n"
     ]
    }
   ],
   "source": [
    "print date_var.year\n",
    "print date_var.month\n",
    "print date_var.day\n",
    "print date_var.hour\n",
    "print date_var.minute\n",
    "print date_var.second"
   ]
  },
  {
   "cell_type": "code",
   "execution_count": null,
   "metadata": {
    "ExecuteTime": {
     "end_time": "2018-08-24T12:32:27.074000Z",
     "start_time": "2018-08-24T12:32:27.068000Z"
    },
    "id": "JGheRupErU9o",
    "outputId": "08dbbf23-885f-4cf4-e2e0-d9e2c4116c2a"
   },
   "outputs": [
    {
     "name": "stdout",
     "output_type": "stream",
     "text": [
      "['F_OK', 'O_APPEND', 'O_BINARY', 'O_CREAT', 'O_EXCL', 'O_NOINHERIT', 'O_RANDOM', 'O_RDONLY', 'O_RDWR', 'O_SEQUENTIAL', 'O_SHORT_LIVED', 'O_TEMPORARY', 'O_TEXT', 'O_TRUNC', 'O_WRONLY', 'P_DETACH', 'P_NOWAIT', 'P_NOWAITO', 'P_OVERLAY', 'P_WAIT', 'R_OK', 'SEEK_CUR', 'SEEK_END', 'SEEK_SET', 'TMP_MAX', 'UserDict', 'W_OK', 'X_OK', '_Environ', '__all__', '__builtins__', '__doc__', '__file__', '__name__', '__package__', '_copy_reg', '_execvpe', '_exists', '_exit', '_get_exports_list', '_make_stat_result', '_make_statvfs_result', '_pickle_stat_result', '_pickle_statvfs_result', 'abort', 'access', 'altsep', 'chdir', 'chmod', 'close', 'closerange', 'curdir', 'defpath', 'devnull', 'dup', 'dup2', 'environ', 'errno', 'error', 'execl', 'execle', 'execlp', 'execlpe', 'execv', 'execve', 'execvp', 'execvpe', 'extsep', 'fdopen', 'fstat', 'fsync', 'getcwd', 'getcwdu', 'getenv', 'getpid', 'isatty', 'kill', 'linesep', 'listdir', 'lseek', 'lstat', 'makedirs', 'mkdir', 'name', 'open', 'pardir', 'path', 'pathsep', 'pipe', 'popen', 'popen2', 'popen3', 'popen4', 'putenv', 'read', 'remove', 'removedirs', 'rename', 'renames', 'rmdir', 'sep', 'spawnl', 'spawnle', 'spawnv', 'spawnve', 'startfile', 'stat', 'stat_float_times', 'stat_result', 'statvfs_result', 'strerror', 'sys', 'system', 'tempnam', 'times', 'tmpfile', 'tmpnam', 'umask', 'unlink', 'unsetenv', 'urandom', 'utime', 'waitpid', 'walk', 'write']\n"
     ]
    }
   ],
   "source": [
    "import os\n",
    "\n",
    "print(dir(os))"
   ]
  },
  {
   "cell_type": "code",
   "execution_count": null,
   "metadata": {
    "ExecuteTime": {
     "end_time": "2018-08-24T12:32:53.176000Z",
     "start_time": "2018-08-24T12:32:53.168000Z"
    },
    "id": "D2e5d5j7rU9p",
    "outputId": "6b70f0ee-360c-47e2-9fc6-6d28299a6860"
   },
   "outputs": [
    {
     "data": {
      "text/plain": [
       "u'C:\\\\Users\\\\The Hero Dood!\\\\Documents\\\\TechField\\\\data_science_course'"
      ]
     },
     "execution_count": 118,
     "metadata": {},
     "output_type": "execute_result"
    }
   ],
   "source": [
    "pwd"
   ]
  },
  {
   "cell_type": "code",
   "execution_count": null,
   "metadata": {
    "ExecuteTime": {
     "end_time": "2018-08-24T12:33:10.631000Z",
     "start_time": "2018-08-24T12:33:10.622000Z"
    },
    "id": "TS5T3opHrU9p",
    "outputId": "643bfbf9-ff49-47d0-9af4-85857889e915"
   },
   "outputs": [
    {
     "data": {
      "text/plain": [
       "'C:\\\\Users\\\\The Hero Dood!\\\\Documents\\\\TechField\\\\data_science_course'"
      ]
     },
     "execution_count": 119,
     "metadata": {},
     "output_type": "execute_result"
    }
   ],
   "source": [
    "os.getcwd()"
   ]
  },
  {
   "cell_type": "code",
   "execution_count": null,
   "metadata": {
    "ExecuteTime": {
     "end_time": "2018-08-24T12:34:09.250000Z",
     "start_time": "2018-08-24T12:34:09.245000Z"
    },
    "collapsed": true,
    "id": "ZLFffyACrU9p"
   },
   "outputs": [],
   "source": [
    "os.chdir(\"C:\\\\Users\\\\The Hero Dood!\\\\Documents\")"
   ]
  },
  {
   "cell_type": "code",
   "execution_count": null,
   "metadata": {
    "ExecuteTime": {
     "end_time": "2018-08-24T12:34:20.477000Z",
     "start_time": "2018-08-24T12:34:20.470000Z"
    },
    "id": "_6Em2udhrU9p",
    "outputId": "51e04f2c-80d7-41e0-e31c-cef93bc61c52"
   },
   "outputs": [
    {
     "data": {
      "text/plain": [
       "'C:\\\\Users\\\\The Hero Dood!\\\\Documents'"
      ]
     },
     "execution_count": 122,
     "metadata": {},
     "output_type": "execute_result"
    }
   ],
   "source": [
    "os.getcwd()"
   ]
  },
  {
   "cell_type": "code",
   "execution_count": null,
   "metadata": {
    "ExecuteTime": {
     "end_time": "2018-08-24T12:34:54.178000Z",
     "start_time": "2018-08-24T12:34:54.172000Z"
    },
    "collapsed": true,
    "id": "0yT0sBoorU9p"
   },
   "outputs": [],
   "source": [
    "os.chdir('C:\\\\Users\\\\The Hero Dood!\\\\Documents\\\\TechField\\\\data_science_course')"
   ]
  },
  {
   "cell_type": "code",
   "execution_count": null,
   "metadata": {
    "ExecuteTime": {
     "end_time": "2018-08-24T12:35:02.351000Z",
     "start_time": "2018-08-24T12:35:02.343000Z"
    },
    "id": "8EJoE6ztrU9q",
    "outputId": "f18eb8ed-1329-4e84-a32e-bacf4a4c7bb1"
   },
   "outputs": [
    {
     "data": {
      "text/plain": [
       "'C:\\\\Users\\\\The Hero Dood!\\\\Documents\\\\TechField\\\\data_science_course'"
      ]
     },
     "execution_count": 124,
     "metadata": {},
     "output_type": "execute_result"
    }
   ],
   "source": [
    "os.getcwd()"
   ]
  },
  {
   "cell_type": "code",
   "execution_count": null,
   "metadata": {
    "ExecuteTime": {
     "end_time": "2018-08-24T12:35:41.039000Z",
     "start_time": "2018-08-24T12:35:41.028000Z"
    },
    "id": "A-xSgYwBrU9q",
    "outputId": "f5e98dad-713c-4756-c8ca-604f50666145"
   },
   "outputs": [
    {
     "data": {
      "text/plain": [
       "['.ipynb_checkpoints',\n",
       " 'Data Gathering-Processing.pptx',\n",
       " 'Data Science Prerequisite Mathematics Exam.docx',\n",
       " 'Data Science Prerequisite Mathematics Exam.pdf',\n",
       " 'Data Science Prerequisite Mathematics Exam2.docx',\n",
       " 'Data Science Prerequisite Mathematics Exam2.pdf',\n",
       " 'Data Science Role Categories.docx',\n",
       " 'data_2d.csv',\n",
       " 'data_2d_test_write.csv',\n",
       " 'data_poly.csv',\n",
       " 'data_projects',\n",
       " 'data_visualization_rules.txt',\n",
       " 'Deep Learning 2.ipynb',\n",
       " 'Deep Learning.ipynb',\n",
       " 'diamonds.csv',\n",
       " 'DSPrescreen.docx',\n",
       " 'DS_course_schedule.pdf',\n",
       " 'DS_course_schedule.xlsx',\n",
       " 'excel_sample.xlsx',\n",
       " 'excel_sample_write_test.xlsx',\n",
       " 'figure1.svg',\n",
       " 'FW_ Data Science Test',\n",
       " 'grad_descent_challenge.csv',\n",
       " 'IMG_0189.JPG',\n",
       " 'Intro to Python.ipynb',\n",
       " 'intro_to_r',\n",
       " 'iris.csv',\n",
       " 'jegajeevan_rahathurai_simba_sleep.zip',\n",
       " 'Linear Regression.ipynb',\n",
       " 'mahbub_project1',\n",
       " 'mindmap.pdf',\n",
       " 'mindmap.xlsx',\n",
       " 'multiple_linear_regression.ipynb',\n",
       " 'Polynomial Regression.ipynb',\n",
       " 'presentation_notes',\n",
       " 'profiles',\n",
       " 'Ridge Regression.ipynb',\n",
       " 'Simple Linear Regression Assignment.docx',\n",
       " 'simple_linear_regression.ipynb',\n",
       " 'tech_tests',\n",
       " 'The NumPy Stack.ipynb',\n",
       " 'Untitled.ipynb',\n",
       " 'Untitled16.ipynb',\n",
       " 'Untitled17.ipynb',\n",
       " 'Untitled18.ipynb',\n",
       " 'Untitled19.ipynb',\n",
       " 'Untitled2.ipynb',\n",
       " 'Untitled20.ipynb',\n",
       " 'Untitled21.ipynb',\n",
       " 'Untitled22.ipynb',\n",
       " 'Untitled23.ipynb',\n",
       " 'Untitled24.ipynb',\n",
       " 'Untitled25.ipynb',\n",
       " 'Untitled3.ipynb',\n",
       " 'Untitled4.ipynb',\n",
       " 'Untitled5.ipynb',\n",
       " 'Untitled6.ipynb',\n",
       " 'Untitled7.ipynb',\n",
       " 'Untitled8.ipynb',\n",
       " 'Untitled9.ipynb',\n",
       " 'week1']"
      ]
     },
     "execution_count": 126,
     "metadata": {},
     "output_type": "execute_result"
    }
   ],
   "source": [
    "os.listdir(os.getcwd())"
   ]
  },
  {
   "cell_type": "code",
   "execution_count": null,
   "metadata": {
    "collapsed": true,
    "id": "GCNuO-p7rU9q"
   },
   "outputs": [],
   "source": [
    "os.mkdir(\"dirname\")"
   ]
  },
  {
   "cell_type": "code",
   "execution_count": null,
   "metadata": {
    "ExecuteTime": {
     "end_time": "2018-08-24T12:48:41.337000Z",
     "start_time": "2018-08-24T12:48:41.332000Z"
    },
    "collapsed": true,
    "id": "7cJAFY-IrU9q"
   },
   "outputs": [],
   "source": [
    "os.makedirs(\"test_dir1/test_sub_dir\")"
   ]
  },
  {
   "cell_type": "code",
   "execution_count": null,
   "metadata": {
    "ExecuteTime": {
     "end_time": "2018-08-24T12:42:07.013000Z",
     "start_time": "2018-08-24T12:42:07.003000Z"
    },
    "id": "Y-EOR7SYrU9q",
    "outputId": "251c28b4-4ae9-4a41-c4b4-14e7cc810ed8"
   },
   "outputs": [
    {
     "data": {
      "text/plain": [
       "['.ipynb_checkpoints',\n",
       " 'Data Gathering-Processing.pptx',\n",
       " 'Data Science Prerequisite Mathematics Exam.docx',\n",
       " 'Data Science Prerequisite Mathematics Exam.pdf',\n",
       " 'Data Science Prerequisite Mathematics Exam2.docx',\n",
       " 'Data Science Prerequisite Mathematics Exam2.pdf',\n",
       " 'Data Science Role Categories.docx',\n",
       " 'data_2d.csv',\n",
       " 'data_2d_test_write.csv',\n",
       " 'data_poly.csv',\n",
       " 'data_projects',\n",
       " 'data_visualization_rules.txt',\n",
       " 'Deep Learning 2.ipynb',\n",
       " 'Deep Learning.ipynb',\n",
       " 'diamonds.csv',\n",
       " 'DSPrescreen.docx',\n",
       " 'DS_course_schedule.pdf',\n",
       " 'DS_course_schedule.xlsx',\n",
       " 'excel_sample.xlsx',\n",
       " 'excel_sample_write_test.xlsx',\n",
       " 'figure1.svg',\n",
       " 'FW_ Data Science Test',\n",
       " 'grad_descent_challenge.csv',\n",
       " 'IMG_0189.JPG',\n",
       " 'Intro to Python.ipynb',\n",
       " 'intro_to_r',\n",
       " 'iris.csv',\n",
       " 'jegajeevan_rahathurai_simba_sleep.zip',\n",
       " 'Linear Regression.ipynb',\n",
       " 'mahbub_project1',\n",
       " 'mindmap.pdf',\n",
       " 'mindmap.xlsx',\n",
       " 'multiple_linear_regression.ipynb',\n",
       " 'Polynomial Regression.ipynb',\n",
       " 'presentation_notes',\n",
       " 'profiles',\n",
       " 'Ridge Regression.ipynb',\n",
       " 'Simple Linear Regression Assignment.docx',\n",
       " 'simple_linear_regression.ipynb',\n",
       " 'tech_tests',\n",
       " 'test_dir',\n",
       " 'test_dir1',\n",
       " 'The NumPy Stack.ipynb',\n",
       " 'Untitled.ipynb',\n",
       " 'Untitled16.ipynb',\n",
       " 'Untitled17.ipynb',\n",
       " 'Untitled18.ipynb',\n",
       " 'Untitled19.ipynb',\n",
       " 'Untitled2.ipynb',\n",
       " 'Untitled20.ipynb',\n",
       " 'Untitled21.ipynb',\n",
       " 'Untitled22.ipynb',\n",
       " 'Untitled23.ipynb',\n",
       " 'Untitled24.ipynb',\n",
       " 'Untitled25.ipynb',\n",
       " 'Untitled3.ipynb',\n",
       " 'Untitled4.ipynb',\n",
       " 'Untitled5.ipynb',\n",
       " 'Untitled6.ipynb',\n",
       " 'Untitled7.ipynb',\n",
       " 'Untitled8.ipynb',\n",
       " 'Untitled9.ipynb',\n",
       " 'week1']"
      ]
     },
     "execution_count": 133,
     "metadata": {},
     "output_type": "execute_result"
    }
   ],
   "source": [
    "os.listdir(os.getcwd())"
   ]
  },
  {
   "cell_type": "code",
   "execution_count": null,
   "metadata": {
    "collapsed": true,
    "id": "VgVh-MKjrU9r"
   },
   "outputs": [],
   "source": [
    "os.rmdir(\"dirname\")\n",
    "os.removedirs(\"dirname\")"
   ]
  },
  {
   "cell_type": "code",
   "execution_count": null,
   "metadata": {
    "ExecuteTime": {
     "end_time": "2018-08-24T12:43:31.471000Z",
     "start_time": "2018-08-24T12:43:31.464000Z"
    },
    "collapsed": true,
    "id": "IrsJfjggrU9r"
   },
   "outputs": [],
   "source": [
    "os.chdir(os.getcwd() + \"\\\\test_dir1\")"
   ]
  },
  {
   "cell_type": "code",
   "execution_count": null,
   "metadata": {
    "ExecuteTime": {
     "end_time": "2018-08-24T12:43:40.568000Z",
     "start_time": "2018-08-24T12:43:40.560000Z"
    },
    "id": "AYR9O1RSrU9s",
    "outputId": "49e3e8ce-832b-4ebc-f590-847fcdfcf30d"
   },
   "outputs": [
    {
     "data": {
      "text/plain": [
       "'C:\\\\Users\\\\The Hero Dood!\\\\Documents\\\\TechField\\\\data_science_course\\\\test_dir1'"
      ]
     },
     "execution_count": 137,
     "metadata": {},
     "output_type": "execute_result"
    }
   ],
   "source": [
    "os.getcwd()"
   ]
  },
  {
   "cell_type": "code",
   "execution_count": null,
   "metadata": {
    "ExecuteTime": {
     "end_time": "2018-08-24T12:46:54.440000Z",
     "start_time": "2018-08-24T12:46:54.436000Z"
    },
    "collapsed": true,
    "id": "aqyt1bxprU9t"
   },
   "outputs": [],
   "source": [
    "os.chdir('C:\\\\Users\\\\The Hero Dood!\\\\Documents\\\\TechField\\\\data_science_course')"
   ]
  },
  {
   "cell_type": "code",
   "execution_count": null,
   "metadata": {
    "ExecuteTime": {
     "end_time": "2018-08-24T12:47:03.255000Z",
     "start_time": "2018-08-24T12:47:03.244000Z"
    },
    "id": "sF8KjHQKrU9u",
    "outputId": "429eac63-d6fa-4d4e-e48c-8daca3be4c98"
   },
   "outputs": [
    {
     "data": {
      "text/plain": [
       "'C:\\\\Users\\\\The Hero Dood!\\\\Documents\\\\TechField\\\\data_science_course'"
      ]
     },
     "execution_count": 142,
     "metadata": {},
     "output_type": "execute_result"
    }
   ],
   "source": [
    "os.getcwd()"
   ]
  },
  {
   "cell_type": "code",
   "execution_count": null,
   "metadata": {
    "collapsed": true,
    "id": "HB-4Zr86rU9w"
   },
   "outputs": [],
   "source": []
  },
  {
   "cell_type": "code",
   "execution_count": null,
   "metadata": {
    "ExecuteTime": {
     "end_time": "2018-08-24T12:48:59.058000Z",
     "start_time": "2018-08-24T12:48:59.053000Z"
    },
    "collapsed": true,
    "id": "_kdGC56JrU9x"
   },
   "outputs": [],
   "source": [
    "os.removedirs(\"test_dir1\\\\test_sub_dir\")\n",
    "#os.removedirs()"
   ]
  },
  {
   "cell_type": "code",
   "execution_count": null,
   "metadata": {
    "ExecuteTime": {
     "end_time": "2018-08-24T12:49:03.711000Z",
     "start_time": "2018-08-24T12:49:03.700000Z"
    },
    "id": "y1sHupSSrU9x",
    "outputId": "5ca76b94-7078-440d-a228-b61033a2a993"
   },
   "outputs": [
    {
     "data": {
      "text/plain": [
       "['.ipynb_checkpoints',\n",
       " 'Data Gathering-Processing.pptx',\n",
       " 'Data Science Prerequisite Mathematics Exam.docx',\n",
       " 'Data Science Prerequisite Mathematics Exam.pdf',\n",
       " 'Data Science Prerequisite Mathematics Exam2.docx',\n",
       " 'Data Science Prerequisite Mathematics Exam2.pdf',\n",
       " 'Data Science Role Categories.docx',\n",
       " 'data_2d.csv',\n",
       " 'data_2d_test_write.csv',\n",
       " 'data_poly.csv',\n",
       " 'data_projects',\n",
       " 'data_visualization_rules.txt',\n",
       " 'Deep Learning 2.ipynb',\n",
       " 'Deep Learning.ipynb',\n",
       " 'diamonds.csv',\n",
       " 'DSPrescreen.docx',\n",
       " 'DS_course_schedule.pdf',\n",
       " 'DS_course_schedule.xlsx',\n",
       " 'excel_sample.xlsx',\n",
       " 'excel_sample_write_test.xlsx',\n",
       " 'figure1.svg',\n",
       " 'FW_ Data Science Test',\n",
       " 'grad_descent_challenge.csv',\n",
       " 'IMG_0189.JPG',\n",
       " 'Intro to Python.ipynb',\n",
       " 'intro_to_r',\n",
       " 'iris.csv',\n",
       " 'jegajeevan_rahathurai_simba_sleep.zip',\n",
       " 'Linear Regression.ipynb',\n",
       " 'mahbub_project1',\n",
       " 'mindmap.pdf',\n",
       " 'mindmap.xlsx',\n",
       " 'multiple_linear_regression.ipynb',\n",
       " 'Polynomial Regression.ipynb',\n",
       " 'presentation_notes',\n",
       " 'profiles',\n",
       " 'Ridge Regression.ipynb',\n",
       " 'Simple Linear Regression Assignment.docx',\n",
       " 'simple_linear_regression.ipynb',\n",
       " 'tech_tests',\n",
       " 'test_dir',\n",
       " 'The NumPy Stack.ipynb',\n",
       " 'Untitled.ipynb',\n",
       " 'Untitled16.ipynb',\n",
       " 'Untitled17.ipynb',\n",
       " 'Untitled18.ipynb',\n",
       " 'Untitled19.ipynb',\n",
       " 'Untitled2.ipynb',\n",
       " 'Untitled20.ipynb',\n",
       " 'Untitled21.ipynb',\n",
       " 'Untitled22.ipynb',\n",
       " 'Untitled23.ipynb',\n",
       " 'Untitled24.ipynb',\n",
       " 'Untitled25.ipynb',\n",
       " 'Untitled3.ipynb',\n",
       " 'Untitled4.ipynb',\n",
       " 'Untitled5.ipynb',\n",
       " 'Untitled6.ipynb',\n",
       " 'Untitled7.ipynb',\n",
       " 'Untitled8.ipynb',\n",
       " 'Untitled9.ipynb',\n",
       " 'week1']"
      ]
     },
     "execution_count": 147,
     "metadata": {},
     "output_type": "execute_result"
    }
   ],
   "source": [
    "os.listdir(os.getcwd())"
   ]
  },
  {
   "cell_type": "code",
   "execution_count": null,
   "metadata": {
    "ExecuteTime": {
     "end_time": "2018-08-24T12:53:11.202000Z",
     "start_time": "2018-08-24T12:53:11.196000Z"
    },
    "id": "vSkofVxYrU9y",
    "outputId": "c0e68661-adac-47a6-cb19-fb9b9b4cf5f8"
   },
   "outputs": [
    {
     "name": "stdout",
     "output_type": "stream",
     "text": [
      "__main__\n"
     ]
    }
   ],
   "source": [
    "print __name__"
   ]
  },
  {
   "cell_type": "code",
   "execution_count": null,
   "metadata": {
    "collapsed": true,
    "id": "h7GSe9abrU9y"
   },
   "outputs": [],
   "source": [
    "def other_func():\n",
    "    pass\n",
    "\n",
    "def other_other_func():\n",
    "    pass\n",
    "\n",
    "def main():\n",
    "    pass\n",
    "\n",
    "if __name__ == \"__main__\":\n",
    "    main()"
   ]
  },
  {
   "cell_type": "code",
   "execution_count": null,
   "metadata": {
    "ExecuteTime": {
     "end_time": "2019-01-04T17:01:37.115000Z",
     "start_time": "2019-01-04T17:01:37.108000Z"
    },
    "collapsed": true,
    "id": "oyvCY4SLrU9z"
   },
   "outputs": [],
   "source": [
    "f = open(\"example.txt\")"
   ]
  },
  {
   "cell_type": "code",
   "execution_count": null,
   "metadata": {
    "ExecuteTime": {
     "end_time": "2019-01-04T17:01:47.893000Z",
     "start_time": "2019-01-04T17:01:47.883000Z"
    },
    "id": "phZWK0EVrU9z",
    "outputId": "844c678f-f0d7-4cb3-e962-578c483cc6af"
   },
   "outputs": [
    {
     "data": {
      "text/plain": [
       "''"
      ]
     },
     "execution_count": 49,
     "metadata": {},
     "output_type": "execute_result"
    }
   ],
   "source": [
    "f.readline()"
   ]
  },
  {
   "cell_type": "code",
   "execution_count": null,
   "metadata": {
    "ExecuteTime": {
     "end_time": "2019-01-04T17:02:58.980000Z",
     "start_time": "2019-01-04T17:02:58.971000Z"
    },
    "id": "ABGnhQIdrU9z",
    "outputId": "54118f5c-971a-4874-cc08-7f8a7e827fa9"
   },
   "outputs": [
    {
     "data": {
      "text/plain": [
       "0L"
      ]
     },
     "execution_count": 55,
     "metadata": {},
     "output_type": "execute_result"
    }
   ],
   "source": [
    "f.tell()"
   ]
  },
  {
   "cell_type": "code",
   "execution_count": null,
   "metadata": {
    "ExecuteTime": {
     "end_time": "2019-01-04T17:03:01.271000Z",
     "start_time": "2019-01-04T17:03:01.258000Z"
    },
    "collapsed": true,
    "id": "6_LzruD0rU9z"
   },
   "outputs": [],
   "source": [
    "f.seek(0)"
   ]
  },
  {
   "cell_type": "code",
   "execution_count": null,
   "metadata": {
    "ExecuteTime": {
     "end_time": "2019-01-04T17:02:47.188000Z",
     "start_time": "2019-01-04T17:02:47.178000Z"
    },
    "id": "WkXofsqvrU90",
    "outputId": "6f4bf9e5-b0aa-4c4a-dec0-2df544ca695b"
   },
   "outputs": [
    {
     "data": {
      "text/plain": [
       "''"
      ]
     },
     "execution_count": 53,
     "metadata": {},
     "output_type": "execute_result"
    }
   ],
   "source": [
    "f.readline()"
   ]
  },
  {
   "cell_type": "code",
   "execution_count": null,
   "metadata": {
    "ExecuteTime": {
     "end_time": "2019-01-04T17:02:52.545000Z",
     "start_time": "2019-01-04T17:02:52.536000Z"
    },
    "id": "FFeGuWRdrU90",
    "outputId": "1db880f4-4e6b-4a5c-8c8d-2c928ff4f4aa"
   },
   "outputs": [
    {
     "data": {
      "text/plain": [
       "''"
      ]
     },
     "execution_count": 54,
     "metadata": {},
     "output_type": "execute_result"
    }
   ],
   "source": [
    "f.readline()"
   ]
  },
  {
   "cell_type": "code",
   "execution_count": null,
   "metadata": {
    "ExecuteTime": {
     "end_time": "2018-08-24T13:00:17.003000Z",
     "start_time": "2018-08-24T13:00:16.995000Z"
    },
    "id": "4ze84SDqrU90",
    "outputId": "cc2a210a-c307-481c-bf42-6a9a5b4c55ce"
   },
   "outputs": [
    {
     "data": {
      "text/plain": [
       "'Wait.  Make that three lines.'"
      ]
     },
     "execution_count": 158,
     "metadata": {},
     "output_type": "execute_result"
    }
   ],
   "source": [
    "f.readline()"
   ]
  },
  {
   "cell_type": "code",
   "execution_count": null,
   "metadata": {
    "ExecuteTime": {
     "end_time": "2018-08-24T13:00:30.941000Z",
     "start_time": "2018-08-24T13:00:30.933000Z"
    },
    "id": "k2_NA91crU90",
    "outputId": "f642c71d-cf5a-4c93-905b-0d064006e071"
   },
   "outputs": [
    {
     "data": {
      "text/plain": [
       "''"
      ]
     },
     "execution_count": 159,
     "metadata": {},
     "output_type": "execute_result"
    }
   ],
   "source": [
    "f.readline()"
   ]
  },
  {
   "cell_type": "code",
   "execution_count": null,
   "metadata": {
    "ExecuteTime": {
     "end_time": "2018-08-24T13:01:05.839000Z",
     "start_time": "2018-08-24T13:01:05.834000Z"
    },
    "collapsed": true,
    "id": "Ee9tiPZurU90"
   },
   "outputs": [],
   "source": [
    "f.seek(1)"
   ]
  },
  {
   "cell_type": "code",
   "execution_count": null,
   "metadata": {
    "ExecuteTime": {
     "end_time": "2018-08-24T13:01:13.328000Z",
     "start_time": "2018-08-24T13:01:13.321000Z"
    },
    "id": "y-MK1811rU91",
    "outputId": "11a3788f-11e2-4dca-f03a-f053c2c0d861"
   },
   "outputs": [
    {
     "data": {
      "text/plain": [
       "'his is a test text file\\n'"
      ]
     },
     "execution_count": 162,
     "metadata": {},
     "output_type": "execute_result"
    }
   ],
   "source": [
    "f.readline()"
   ]
  },
  {
   "cell_type": "code",
   "execution_count": null,
   "metadata": {
    "ExecuteTime": {
     "end_time": "2019-01-04T17:04:25.697000Z",
     "start_time": "2019-01-04T17:04:25.689000Z"
    },
    "collapsed": true,
    "id": "CBF8a9m_rU91"
   },
   "outputs": [],
   "source": [
    "f.close()"
   ]
  },
  {
   "cell_type": "code",
   "execution_count": null,
   "metadata": {
    "collapsed": true,
    "id": "v8uFxbmnrU91"
   },
   "outputs": [],
   "source": [
    "with open(\"example.txt\") as f:\n",
    "    for line in f:\n",
    "        print(line)"
   ]
  }
 ],
 "metadata": {
  "colab": {
   "name": "Intro to Python.ipynb",
   "provenance": []
  },
  "hide_input": false,
  "kernelspec": {
   "display_name": "Python 3",
   "language": "python",
   "name": "python3"
  },
  "language_info": {
   "codemirror_mode": {
    "name": "ipython",
    "version": 3
   },
   "file_extension": ".py",
   "mimetype": "text/x-python",
   "name": "python",
   "nbconvert_exporter": "python",
   "pygments_lexer": "ipython3",
   "version": "3.7.6"
  },
  "latex_envs": {
   "LaTeX_envs_menu_present": true,
   "autocomplete": true,
   "bibliofile": "biblio.bib",
   "cite_by": "apalike",
   "current_citInitial": 1,
   "eqLabelWithNumbers": true,
   "eqNumInitial": 1,
   "hotkeys": {
    "equation": "Ctrl-E",
    "itemize": "Ctrl-I"
   },
   "labels_anchors": false,
   "latex_user_defs": false,
   "report_style_numbering": false,
   "user_envs_cfg": false
  }
 },
 "nbformat": 4,
 "nbformat_minor": 1
}
